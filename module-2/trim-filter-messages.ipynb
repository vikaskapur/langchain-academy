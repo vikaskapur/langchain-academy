{
 "cells": [
  {
   "cell_type": "markdown",
   "id": "fb0ebaf1",
   "metadata": {},
   "source": [
    "[![Open in Colab](https://colab.research.google.com/assets/colab-badge.svg)](https://colab.research.google.com/github/langchain-ai/langchain-academy/blob/main/module-2/trim-filter-messages.ipynb) [![Open in LangChain Academy](https://cdn.prod.website-files.com/65b8cd72835ceeacd4449a53/66e9eba12c7b7688aa3dbb5e_LCA-badge-green.svg)](https://academy.langchain.com/courses/take/intro-to-langgraph/lessons/58239435-lesson-4-trim-and-filter-messages)"
   ]
  },
  {
   "cell_type": "markdown",
   "id": "c52ea2f9-03ff-4647-b782-46867ebed04e",
   "metadata": {},
   "source": [
    "# Filtering and trimming messages\n",
    "\n",
    "## Review\n",
    "\n",
    "Now, we have a deeper understanding of a few things: \n",
    "\n",
    "* How to customize the graph state schema\n",
    "* How to define custom state reducers\n",
    "* How to use multiple graph state schemas\n",
    "\n",
    "## Goals\n",
    "\n",
    "Now, we can start using these concepts with models in LangGraph!\n",
    " \n",
    "In the next few sessions, we'll build towards a chatbot that has long-term memory.\n",
    "\n",
    "Because our chatbot will use messages, let's first talk a bit more about advanced ways to work with messages in graph state."
   ]
  },
  {
   "cell_type": "code",
   "execution_count": null,
   "id": "d5197aba-5d46-421b-ae3b-4e3034edcfda",
   "metadata": {},
   "outputs": [],
   "source": [
    "%%capture --no-stderr\n",
    "%pip install --quiet -U langchain_core langgraph langchain_openai"
   ]
  },
  {
   "cell_type": "code",
   "execution_count": 1,
   "id": "768dc606-d5f2-468d-96ea-910b264e0f8a",
   "metadata": {},
   "outputs": [],
   "source": [
    "import os, getpass\n",
    "\n",
    "def _set_env(var: str):\n",
    "    if not os.environ.get(var):\n",
    "        os.environ[var] = getpass.getpass(f\"{var}: \")\n",
    "\n",
    "_set_env(\"OPENAI_API_KEY\")"
   ]
  },
  {
   "cell_type": "markdown",
   "id": "8b64d8d3-e4ac-4961-bdc0-688825eb5864",
   "metadata": {},
   "source": [
    "We'll use [LangSmith](https://docs.smith.langchain.com/) for [tracing](https://docs.smith.langchain.com/concepts/tracing).\n",
    "\n",
    "We'll log to a project, `langchain-academy`. "
   ]
  },
  {
   "cell_type": "code",
   "execution_count": 2,
   "id": "dd020c79",
   "metadata": {},
   "outputs": [],
   "source": [
    "_set_env(\"LANGCHAIN_API_KEY\")\n",
    "os.environ[\"LANGCHAIN_TRACING_V2\"] = \"true\"\n",
    "os.environ[\"LANGCHAIN_PROJECT\"] = \"langchain-academy\""
   ]
  },
  {
   "cell_type": "code",
   "execution_count": 1,
   "id": "286ef316-86f2-4d79-9544-5c03cca91625",
   "metadata": {},
   "outputs": [
    {
     "data": {
      "text/plain": [
       "True"
      ]
     },
     "execution_count": 1,
     "metadata": {},
     "output_type": "execute_result"
    }
   ],
   "source": [
    "from dotenv import load_dotenv\n",
    "load_dotenv()"
   ]
  },
  {
   "cell_type": "markdown",
   "id": "72f3fc90-58b6-4f7f-897e-dddf6ae532c7",
   "metadata": {},
   "source": [
    "## Messages as state\n",
    "\n",
    "First, let's define some messages."
   ]
  },
  {
   "cell_type": "code",
   "execution_count": 2,
   "id": "cf11a463-e27a-4a05-b41d-64882e38edca",
   "metadata": {},
   "outputs": [
    {
     "name": "stdout",
     "output_type": "stream",
     "text": [
      "==================================\u001b[1m Ai Message \u001b[0m==================================\n",
      "Name: Bot\n",
      "\n",
      "So you said you were researching ocean mammals?\n",
      "================================\u001b[1m Human Message \u001b[0m=================================\n",
      "Name: Lance\n",
      "\n",
      "Yes, I know about whales. But what others should I learn about?\n"
     ]
    }
   ],
   "source": [
    "from pprint import pprint\n",
    "from langchain_core.messages import AIMessage, HumanMessage\n",
    "messages = [AIMessage(f\"So you said you were researching ocean mammals?\", name=\"Bot\")]\n",
    "messages.append(HumanMessage(f\"Yes, I know about whales. But what others should I learn about?\", name=\"Lance\"))\n",
    "\n",
    "for m in messages:\n",
    "    m.pretty_print()"
   ]
  },
  {
   "cell_type": "markdown",
   "id": "b814adcb-6bf9-4b75-be11-e59f933fbd0c",
   "metadata": {},
   "source": [
    "Recall we can pass them to a chat model."
   ]
  },
  {
   "cell_type": "code",
   "execution_count": 3,
   "id": "4712e288-e622-48a2-ad3f-a52f65f3ab08",
   "metadata": {},
   "outputs": [
    {
     "data": {
      "text/plain": [
       "AIMessage(content='There are many incredible types of marine mammals! Besides whales, here are a few you might find interesting:\\n\\n1. **Dolphins:** These playful and intelligent creatures are known for their acrobatics and complex social structures. They use echolocation to navigate and find food.\\n2. **Seals:** These adorable animals are adapted to both land and water, with flippers for swimming and fur for warmth. They come in various sizes and live in diverse habitats, from the Arctic to the tropics.\\n3. **Sea Lions:** Larger than seals, these vocal animals are known for their barking sounds and impressive ability to walk on land. They are highly social and can be found in colonies with hundreds of individuals.\\n4. **Manatees:** These gentle giants are herbivores and graze on seagrass meadows. They are nicknamed \"sea cows\" for their slow, peaceful nature and rounded bodies.\\n5. **Polar Bears:** These majestic creatures are the world\\'s largest land predators and spend most of their time on the ice hunting for seals. Sadly, they are threatened by climate change and the loss of sea ice.\\n\\nThese are just a few examples of the many fascinating marine mammals out there.\\n\\nWhich one(s) are you most interested in learning about?\\n', additional_kwargs={}, response_metadata={'is_blocked': False, 'safety_ratings': [{'category': 'HARM_CATEGORY_HATE_SPEECH', 'probability_label': 'NEGLIGIBLE', 'probability_score': 0.0267333984375, 'blocked': False, 'severity': 'HARM_SEVERITY_NEGLIGIBLE', 'severity_score': 0.0311279296875}, {'category': 'HARM_CATEGORY_DANGEROUS_CONTENT', 'probability_label': 'NEGLIGIBLE', 'probability_score': 0.12109375, 'blocked': False, 'severity': 'HARM_SEVERITY_NEGLIGIBLE', 'severity_score': 0.08251953125}, {'category': 'HARM_CATEGORY_HARASSMENT', 'probability_label': 'NEGLIGIBLE', 'probability_score': 0.0849609375, 'blocked': False, 'severity': 'HARM_SEVERITY_NEGLIGIBLE', 'severity_score': 0.02294921875}, {'category': 'HARM_CATEGORY_SEXUALLY_EXPLICIT', 'probability_label': 'NEGLIGIBLE', 'probability_score': 0.1337890625, 'blocked': False, 'severity': 'HARM_SEVERITY_NEGLIGIBLE', 'severity_score': 0.0419921875}], 'usage_metadata': {'prompt_token_count': 24, 'candidates_token_count': 258, 'total_token_count': 282, 'cached_content_token_count': 0}, 'finish_reason': 'STOP', 'avg_logprobs': -0.6196225188499274}, id='run-aff8ad1a-b960-41c5-b19f-044474e6d6f0-0', usage_metadata={'input_tokens': 24, 'output_tokens': 258, 'total_tokens': 282})"
      ]
     },
     "execution_count": 3,
     "metadata": {},
     "output_type": "execute_result"
    }
   ],
   "source": [
    "from langchain_google_vertexai import ChatVertexAI\n",
    "llm = ChatVertexAI(model=\"gemini-pro\")\n",
    "llm.invoke(messages)"
   ]
  },
  {
   "cell_type": "markdown",
   "id": "fbd1dab8-0af8-4621-8264-ce65065f76ec",
   "metadata": {},
   "source": [
    "We can run our chat model in a simple graph with `MessagesState`."
   ]
  },
  {
   "cell_type": "code",
   "execution_count": 4,
   "id": "bbd8c39c-633b-4176-9cc6-8318e42bb5dd",
   "metadata": {},
   "outputs": [
    {
     "data": {
      "image/png": "[encoded data removed]",
      "text/plain": [
       "<IPython.core.display.Image object>"
      ]
     },
     "metadata": {},
     "output_type": "display_data"
    }
   ],
   "source": [
    "from IPython.display import Image, display\n",
    "from langgraph.graph import MessagesState\n",
    "from langgraph.graph import StateGraph, START, END\n",
    "\n",
    "# Node\n",
    "def chat_model_node(state: MessagesState):\n",
    "    return {\"messages\": llm.invoke(state[\"messages\"])}\n",
    "\n",
    "# Build graph\n",
    "builder = StateGraph(MessagesState)\n",
    "builder.add_node(\"chat_model\", chat_model_node)\n",
    "builder.add_edge(START, \"chat_model\")\n",
    "builder.add_edge(\"chat_model\", END)\n",
    "graph = builder.compile()\n",
    "\n",
    "# View\n",
    "display(Image(graph.get_graph().draw_mermaid_png()))"
   ]
  },
  {
   "cell_type": "code",
   "execution_count": 11,
   "id": "3a5a3e4a-ccfd-4d14-81f1-f0de6e11a1e4",
   "metadata": {},
   "outputs": [
    {
     "name": "stdout",
     "output_type": "stream",
     "text": [
      "==================================\u001b[1m Ai Message \u001b[0m==================================\n",
      "Name: Bot\n",
      "\n",
      "Hi.\n",
      "================================\u001b[1m Human Message \u001b[0m=================================\n",
      "Name: Lance\n",
      "\n",
      "Hi.\n",
      "==================================\u001b[1m Ai Message \u001b[0m==================================\n",
      "Name: Bot\n",
      "\n",
      "So you said you were researching ocean mammals?\n",
      "================================\u001b[1m Human Message \u001b[0m=================================\n",
      "Name: Lance\n",
      "\n",
      "Yes, I know about whales. But what others should I learn about?\n",
      "==================================\u001b[1m Ai Message \u001b[0m==================================\n",
      "\n",
      "The world's oceans are home to a diverse array of mammals, each with its own unique adaptations and characteristics. Some of the most interesting and well-known marine mammals include:\n",
      "\n",
      "* **Whales:** Cetaceans, the group that includes whales, dolphins, and porpoises, are the largest animals on Earth. They are highly intelligent and social creatures, and they play a vital role in the marine ecosystem. Some of the most iconic whale species include the blue whale, the largest animal on Earth, and the humpback whale, known for its acrobatic displays.\n",
      "* **Dolphins and Porpoises:** These small, toothed whales are known for their playful nature and their intelligence. They are often seen in coastal waters, and they are popular attractions at aquariums and marine parks. Dolphins and porpoises are highly social animals, and they communicate with each other using a variety of sounds and gestures.\n",
      "* **Seals and Sea Lions:** These pinnipeds, which also include walruses, are marine mammals that have adapted to both land and water. They have thick layers of blubber to keep them warm in cold water, and they have powerful flippers that allow them to swim and maneuver in the ocean. Seals and sea lions are often seen on rocky shores and on ice floes.\n",
      "* **Manatees and Dugongs:** These large, gentle herbivores are found in tropical and subtropical waters around the world. They are slow-moving animals that graze on seagrass and other aquatic plants. Manatees and dugongs are often called \"sea cows\" because of their docile nature and their grazing habits.\n",
      "* **Polar Bears:** These large, white bears are found in the Arctic regions of the world. They are well-adapted to their cold, icy environment, and they are skilled hunters. Polar bears are one of the most iconic animals in the world, and they are a symbol of the Arctic wilderness.\n",
      "\n",
      "These are just a few of the many fascinating marine mammals that call the world's oceans home. Each species has its own unique story to tell, and they all play an important role in the delicate balance of the marine ecosystem.\n",
      "================================\u001b[1m Human Message \u001b[0m=================================\n",
      "Name: Lance\n",
      "\n",
      "Tell me more about Narwhals!\n",
      "==================================\u001b[1m Ai Message \u001b[0m==================================\n",
      "\n",
      "**Narwhals**\n",
      "\n",
      "**Physical Description**\n",
      "\n",
      "* **Size:** Adults typically range from 13 to 18 feet (4 to 5.5 meters) in length and weigh around 3,500 pounds (1,600 kilograms).\n",
      "* **Tusk:** The most distinctive feature of the narwhal is its long, spiral tusk, which is actually a modified tooth. Tusks can grow up to 10 feet (3 meters) long and weigh up to 20 pounds (9 kilograms).\n",
      "* **Skin:** Narwhals have a mottled gray and white skin coloration.\n",
      "* **Head:** They have a small, rounded head with a prominent forehead and a blowhole on the top of their head.\n",
      "* **Fins:** Narwhals have two flippers and a dorsal fin.\n",
      "\n",
      "**Habitat and Distribution**\n",
      "\n",
      "* **Habitat:** Narwhals are found in the Arctic waters of Canada, Greenland, Russia, Norway, and Alaska.\n",
      "* **Distribution:** They prefer deep, ice-covered waters and are often found in fjords and bays.\n",
      "\n",
      "**Diet**\n",
      "\n",
      "* **Prey:** Narwhals feed primarily on Arctic cod, Greenland halibut, and other fish.\n",
      "* **Hunting Technique:** They use their tusks to stun prey before catching it in their mouths.\n",
      "\n",
      "**Behavior**\n",
      "\n",
      "* **Social Structure:** Narwhals are highly social animals and often form pods of up to 100 individuals.\n",
      "* **Vocalizations:** They communicate using a variety of clicks, whistles, and other sounds.\n",
      "* **Migration:** Narwhals migrate seasonally, following the movements of their prey.\n",
      "\n",
      "**Reproduction**\n",
      "\n",
      "* **Gestation Period:** The gestation period for narwhals is about 15 months.\n",
      "* **Calves:** Females typically give birth to one calf at a time.\n",
      "* **Maturity:** Narwhals reach sexual maturity at around 4-7 years of age.\n",
      "\n",
      "**Conservation Status**\n",
      "\n",
      "* **IUCN Red List:** Least Concern\n",
      "* **Threats:** Climate change, habitat loss, and hunting are the main threats to narwhals.\n",
      "\n",
      "**Interesting Facts**\n",
      "\n",
      "* The narwhal's tusk is thought to be used for multiple purposes, including echolocation, sensing water temperature and salinity, and attracting mates.\n",
      "* Narwhals are known as the \"unicorns of the sea\" due to their tusks.\n",
      "* The tusk is actually a hollow tooth that grows from the upper left canine.\n",
      "* Narwhals can dive to depths of over 1,500 meters (5,000 feet).\n",
      "* They are apex predators in their environment and play an important role in the Arctic ecosystem.\n"
     ]
    }
   ],
   "source": [
    "output = graph.invoke({'messages': messages})\n",
    "for m in output['messages']:\n",
    "    m.pretty_print()"
   ]
  },
  {
   "cell_type": "markdown",
   "id": "34c33e63-1ef4-412d-bb10-6a1b9e5b35a7",
   "metadata": {},
   "source": [
    "## Reducer\n",
    "\n",
    "A practical challenge when working with messages is managing long-running conversations. \n",
    "\n",
    "Long-running conversations result in high token usage and latency if we are not careful, because we pass a growing list of messages to the model.\n",
    "\n",
    "We have a few ways to address this.\n",
    "\n",
    "First, recall the trick we saw using `RemoveMessage` and the `add_messages` reducer."
   ]
  },
  {
   "cell_type": "code",
   "execution_count": 12,
   "id": "222c6bc5-bb0e-4a43-80f5-c8ec38d99f3a",
   "metadata": {},
   "outputs": [
    {
     "data": {
      "image/png": "[encoded data removed]",
      "text/plain": [
       "<IPython.core.display.Image object>"
      ]
     },
     "metadata": {},
     "output_type": "display_data"
    }
   ],
   "source": [
    "from langchain_core.messages import RemoveMessage\n",
    "\n",
    "# Nodes\n",
    "def filter_messages(state: MessagesState):\n",
    "    # Delete all but the 2 most recent messages\n",
    "    delete_messages = [RemoveMessage(id=m.id) for m in state[\"messages\"][:-2]]\n",
    "    return {\"messages\": delete_messages}\n",
    "\n",
    "def chat_model_node(state: MessagesState):    \n",
    "    return {\"messages\": [llm.invoke(state[\"messages\"])]}\n",
    "\n",
    "# Build graph\n",
    "builder = StateGraph(MessagesState)\n",
    "builder.add_node(\"filter\", filter_messages)\n",
    "builder.add_node(\"chat_model\", chat_model_node)\n",
    "builder.add_edge(START, \"filter\")\n",
    "builder.add_edge(\"filter\", \"chat_model\")\n",
    "builder.add_edge(\"chat_model\", END)\n",
    "graph = builder.compile()\n",
    "\n",
    "# View\n",
    "display(Image(graph.get_graph().draw_mermaid_png()))"
   ]
  },
  {
   "cell_type": "code",
   "execution_count": 13,
   "id": "95a7c2cc-54ce-43e7-9a90-abf37827d709",
   "metadata": {},
   "outputs": [
    {
     "name": "stdout",
     "output_type": "stream",
     "text": [
      "==================================\u001b[1m Ai Message \u001b[0m==================================\n",
      "Name: Bot\n",
      "\n",
      "So you said you were researching ocean mammals?\n",
      "================================\u001b[1m Human Message \u001b[0m=================================\n",
      "Name: Lance\n",
      "\n",
      "Yes, I know about whales. But what others should I learn about?\n",
      "==================================\u001b[1m Ai Message \u001b[0m==================================\n",
      "\n",
      "That depends on your interests! Here are a few other ocean mammals you could learn about:\n",
      "\n",
      "**Smaller than whales:**\n",
      "* **Dolphins & porpoises:** These playful animals are highly intelligent, social, and communicate with whistles and clicks.\n",
      "* **Seals & Sea lions:** These agile swimmers use their flippers for both swimming and walking on land. Some bark and have visible ears! \n",
      "* **Walrus:** These large animals have tusks and use them to break breathing holes in ice or dig up clams on the ocean floor.\n",
      "* **Manatees & Dugongs:** These gentle herbivores graze on seagrass meadows and are sometimes called \"sea cows\". \n",
      "\n",
      "**More like whales:**\n",
      "* **Porpoises:** Not to be confused with dolphins, porpoises have blunt, rounded faces, unlike dolphins' long beaks. \n",
      "* **Baleen whales:** Instead of teeth, these whales have baleen plates to filter krill and other small creatures from the water. Examples include humpback whales and blue whales.\n",
      "* **Toothed whales:** This diverse group includes dolphins, porpoises, and sperm whales, all of which catch prey with teeth.\n",
      "\n",
      "**Especially unique:**\n",
      "\n",
      "* **Sea otter:** This is the smallest marine mammal, and the only one known to use tools to open shellfish!\n",
      "* **Polar bear:** Although it spends most of its time on land, the polar bear relies heavily on the ocean for food, primarily hunting seals. \n",
      "\n",
      "Which ones seem the most interesting to you?\n"
     ]
    }
   ],
   "source": [
    "# Message list with a preamble\n",
    "messages = [AIMessage(\"Hi.\", name=\"Bot\", id=\"1\")]\n",
    "messages.append(HumanMessage(\"Hi.\", name=\"Lance\", id=\"2\"))\n",
    "messages.append(AIMessage(\"So you said you were researching ocean mammals?\", name=\"Bot\", id=\"3\"))\n",
    "messages.append(HumanMessage(\"Yes, I know about whales. But what others should I learn about?\", name=\"Lance\", id=\"4\"))\n",
    "\n",
    "# Invoke\n",
    "output = graph.invoke({'messages': messages})\n",
    "for m in output['messages']:\n",
    "    m.pretty_print()"
   ]
  },
  {
   "cell_type": "markdown",
   "id": "f506457d-014b-4fee-a684-e5edfb4b8f0d",
   "metadata": {},
   "source": [
    "## Filtering messages\n",
    "\n",
    "If you don't need or want to modify the graph state, you can just filter the messages you pass to the chat model.\n",
    "\n",
    "For example, just pass in a filtered list: `llm.invoke(messages[-1:])` to the model."
   ]
  },
  {
   "cell_type": "code",
   "execution_count": 8,
   "id": "22d0b904-7cd6-486b-8948-105bee3d4683",
   "metadata": {},
   "outputs": [
    {
     "data": {
      "image/png": "[encoded data removed]",
      "text/plain": [
       "<IPython.core.display.Image object>"
      ]
     },
     "metadata": {},
     "output_type": "display_data"
    }
   ],
   "source": [
    "# Node\n",
    "def chat_model_node(state: MessagesState):\n",
    "    return {\"messages\": [llm.invoke(state[\"messages\"][-1:])]}\n",
    "\n",
    "# Build graph\n",
    "builder = StateGraph(MessagesState)\n",
    "builder.add_node(\"chat_model\", chat_model_node)\n",
    "builder.add_edge(START, \"chat_model\")\n",
    "builder.add_edge(\"chat_model\", END)\n",
    "graph = builder.compile()\n",
    "\n",
    "# View\n",
    "display(Image(graph.get_graph().draw_mermaid_png()))"
   ]
  },
  {
   "cell_type": "markdown",
   "id": "6f58c6fc-532f-418d-b70a-cfcb3307daf5",
   "metadata": {},
   "source": [
    "Let's take our existing list of messages, append the above LLM response, and append a follow-up question."
   ]
  },
  {
   "cell_type": "code",
   "execution_count": 9,
   "id": "16956015-1dbe-4108-89b5-4209b68b51ca",
   "metadata": {},
   "outputs": [],
   "source": [
    "messages.append(output['messages'][-1])\n",
    "messages.append(HumanMessage(f\"Tell me more about Narwhals!\", name=\"Lance\"))"
   ]
  },
  {
   "cell_type": "code",
   "execution_count": 10,
   "id": "85563415-c085-46a8-a4ac-155df798c54e",
   "metadata": {},
   "outputs": [
    {
     "name": "stdout",
     "output_type": "stream",
     "text": [
      "==================================\u001b[1m Ai Message \u001b[0m==================================\n",
      "Name: Bot\n",
      "\n",
      "Hi.\n",
      "================================\u001b[1m Human Message \u001b[0m=================================\n",
      "Name: Lance\n",
      "\n",
      "Hi.\n",
      "==================================\u001b[1m Ai Message \u001b[0m==================================\n",
      "Name: Bot\n",
      "\n",
      "So you said you were researching ocean mammals?\n",
      "================================\u001b[1m Human Message \u001b[0m=================================\n",
      "Name: Lance\n",
      "\n",
      "Yes, I know about whales. But what others should I learn about?\n",
      "==================================\u001b[1m Ai Message \u001b[0m==================================\n",
      "\n",
      "The world's oceans are home to a diverse array of mammals, each with its own unique adaptations and characteristics. Some of the most interesting and well-known marine mammals include:\n",
      "\n",
      "* **Whales:** Cetaceans, the group that includes whales, dolphins, and porpoises, are the largest animals on Earth. They are highly intelligent and social creatures, and they play a vital role in the marine ecosystem. Some of the most iconic whale species include the blue whale, the largest animal on Earth, and the humpback whale, known for its acrobatic displays.\n",
      "* **Dolphins and Porpoises:** These small, toothed whales are known for their playful nature and their intelligence. They are often seen in coastal waters, and they are popular attractions at aquariums and marine parks. Dolphins and porpoises are highly social animals, and they communicate with each other using a variety of sounds and gestures.\n",
      "* **Seals and Sea Lions:** These pinnipeds, which also include walruses, are marine mammals that have adapted to both land and water. They have thick layers of blubber to keep them warm in cold water, and they have powerful flippers that allow them to swim and maneuver in the ocean. Seals and sea lions are often seen on rocky shores and on ice floes.\n",
      "* **Manatees and Dugongs:** These large, gentle herbivores are found in tropical and subtropical waters around the world. They are slow-moving animals that graze on seagrass and other aquatic plants. Manatees and dugongs are often called \"sea cows\" because of their docile nature and their grazing habits.\n",
      "* **Polar Bears:** These large, white bears are found in the Arctic regions of the world. They are well-adapted to their cold, icy environment, and they are skilled hunters. Polar bears are one of the most iconic animals in the world, and they are a symbol of the Arctic wilderness.\n",
      "\n",
      "These are just a few of the many fascinating marine mammals that call the world's oceans home. Each species has its own unique story to tell, and they all play an important role in the delicate balance of the marine ecosystem.\n",
      "================================\u001b[1m Human Message \u001b[0m=================================\n",
      "Name: Lance\n",
      "\n",
      "Tell me more about Narwhals!\n"
     ]
    }
   ],
   "source": [
    "for m in messages:\n",
    "    m.pretty_print()"
   ]
  },
  {
   "cell_type": "code",
   "execution_count": 14,
   "id": "23349705-a059-47b5-9760-d8f64e687393",
   "metadata": {},
   "outputs": [
    {
     "name": "stdout",
     "output_type": "stream",
     "text": [
      "==================================\u001b[1m Ai Message \u001b[0m==================================\n",
      "Name: Bot\n",
      "\n",
      "Hi.\n",
      "================================\u001b[1m Human Message \u001b[0m=================================\n",
      "Name: Lance\n",
      "\n",
      "Hi.\n",
      "==================================\u001b[1m Ai Message \u001b[0m==================================\n",
      "Name: Bot\n",
      "\n",
      "So you said you were researching ocean mammals?\n",
      "================================\u001b[1m Human Message \u001b[0m=================================\n",
      "Name: Lance\n",
      "\n",
      "Yes, I know about whales. But what others should I learn about?\n",
      "==================================\u001b[1m Ai Message \u001b[0m==================================\n",
      "\n",
      "That's great that you know about whales! There are many other fascinating ocean mammals you can learn about. Here are a few:\n",
      "\n",
      "1. **Dolphins**: Highly intelligent and social animals, dolphins are known for their playful behavior and sophisticated communication skills. There are many species of dolphins, including the well-known bottlenose dolphin.\n",
      "\n",
      "2. **Porpoises**: Often confused with dolphins, porpoises are smaller and have different body shapes and teeth. They are generally more reclusive and less acrobatic than dolphins.\n",
      "\n",
      "3. **Seals**: Seals are part of the pinniped family, which also includes sea lions and walruses. They have streamlined bodies and flippers, making them excellent swimmers. Common types of seals include harbor seals and elephant seals.\n",
      "\n",
      "4. **Sea Lions**: Similar to seals but with some key differences, sea lions have external ear flaps and can rotate their hind flippers to walk on land. They are also very social and often gather in large groups.\n",
      "\n",
      "5. **Walruses**: Recognizable by their long tusks and whiskers, walruses are large marine mammals that are found in Arctic regions. They use their tusks to help them climb out of the water and to break through ice.\n",
      "\n",
      "6. **Manatees and Dugongs**: These gentle giants are often referred to as sea cows. Manatees are found in the Atlantic Ocean, while dugongs are found in the Indian and Pacific Oceans. They are herbivores and spend most of their time grazing on underwater vegetation.\n",
      "\n",
      "7. **Sea Otters**: Known for their playful behavior and use of tools, sea otters are an important part of the marine ecosystem. They have thick fur to keep them warm in cold waters and are often seen floating on their backs.\n",
      "\n",
      "8. **Polar Bears**: While not exclusively marine, polar bears spend a significant amount of time in the ocean, particularly in Arctic regions. They are excellent swimmers and rely on sea ice to hunt seals, their primary food source.\n",
      "\n",
      "9. **Narwhals**: Often called the \"unicorns of the sea,\" narwhals have a long, spiral tusk that is actually an elongated tooth. They are found in Arctic waters and are known for their deep diving abilities.\n",
      "\n",
      "10. **Orcas (Killer Whales)**: Though they are technically a type of dolphin, orcas are often considered separately due to their size and distinctive black-and-white coloring. They are apex predators and have complex social structures.\n",
      "\n",
      "Each of these ocean mammals has unique behaviors, adaptations, and ecological roles, making them fascinating subjects for study.\n",
      "================================\u001b[1m Human Message \u001b[0m=================================\n",
      "Name: Lance\n",
      "\n",
      "Tell me more about Narwhals!\n",
      "==================================\u001b[1m Ai Message \u001b[0m==================================\n",
      "\n",
      "Of course! Narwhals (Monodon monoceros) are fascinating marine mammals that belong to the family Monodontidae, which also includes the beluga whale. They are best known for the long, spiral tusk that protrudes from the head of the males, which has earned them the nickname \"unicorns of the sea.\"\n",
      "\n",
      "Here are some key facts about narwhals:\n",
      "\n",
      "### Physical Characteristics\n",
      "- **Tusk**: The most distinctive feature of the narwhal is the tusk, which is actually an elongated tooth. It can grow up to 10 feet (3 meters) long and is usually found in males, though some females may also develop smaller tusks. The tusk grows in a spiral pattern and is thought to have sensory capabilities, with millions of nerve endings.\n",
      "- **Body**: Narwhals have a stocky body with a mottled black and white skin pattern. They lack a dorsal fin, which is thought to be an adaptation to swimming under ice.\n",
      "- **Size**: Adult narwhals typically range from 13 to 20 feet (4 to 6 meters) in length, with males generally being larger than females.\n",
      "- **Weight**: They can weigh between 1,760 to 3,530 pounds (800 to 1,600 kilograms).\n",
      "\n",
      "### Habitat and Distribution\n",
      "- Narwhals are native to the Arctic waters of Canada, Greenland, Norway, and Russia. They are especially common in the Baffin Bay and the waters surrounding Greenland.\n",
      "- They prefer deep waters and are often found in areas with heavy sea ice.\n",
      "\n",
      "### Behavior and Diet\n",
      "- **Diving**: Narwhals are deep divers and can reach depths of up to 5,000 feet (1,500 meters) in search of food. They can hold their breath for up to 25 minutes.\n",
      "- **Diet**: Their diet primarily consists of fish such as Arctic cod and Greenland halibut, as well as squid and shrimp.\n",
      "- **Social Structure**: Narwhals are social animals and are often found in groups called pods, which typically consist of 5 to 10 individuals but can sometimes number in the hundreds.\n",
      "\n",
      "### Reproduction and Lifespan\n",
      "- Females give birth to a single calf after a gestation period of about 14 to 15 months. Calves are usually born in the spring or early summer.\n",
      "- Narwhals have a long lifespan and can live up to 50 years, although some individuals may live even longer.\n",
      "\n",
      "### Conservation Status\n",
      "- Narwhals are currently classified as \"Near Threatened\" by the International Union for Conservation of Nature (IUCN). Their main threats include climate change, which affects their sea ice habitat, and human activities such as shipping and oil exploration.\n",
      "- Indigenous communities in the Arctic have traditionally hunted narwhals for their meat, blubber, and tusks, which are used for various purposes, including art and tools.\n",
      "\n",
      "### Cultural Significance\n",
      "- The narwhal's tusk has fascinated humans for centuries and was often sold as a \"unicorn horn\" in medieval Europe, believed to possess magical properties.\n",
      "- Narwhals hold significant cultural and economic value for indigenous Arctic communities.\n",
      "\n",
      "Overall, narwhals are remarkable creatures with unique adaptations that allow them to thrive in some of the planet's harshest environments.\n"
     ]
    }
   ],
   "source": [
    "# Invoke, using message filtering\n",
    "output = graph.invoke({'messages': messages})\n",
    "for m in output['messages']:\n",
    "    m.pretty_print()"
   ]
  },
  {
   "cell_type": "markdown",
   "id": "42e1d8d2-e297-4d78-b54c-d12b3c866745",
   "metadata": {},
   "source": [
    "The state has all of the mesages.\n",
    "\n",
    "But, let's look at the LangSmith trace to see that the model invocation only uses the last message:\n",
    "\n",
    "https://smith.langchain.com/public/75aca3ce-ef19-4b92-94be-0178c7a660d9/r"
   ]
  },
  {
   "cell_type": "markdown",
   "id": "fc40d930-3c1f-47fe-8d2a-ce174873353c",
   "metadata": {},
   "source": [
    "## Trim messages\n",
    "\n",
    "Another approach is to [trim messages](https://python.langchain.com/v0.2/docs/how_to/trim_messages/#getting-the-last-max_tokens-tokens), based upon a set number of tokens. \n",
    "\n",
    "This restricts the message history to a specified number of tokens.\n",
    "\n",
    "While filtering only returns a post-hoc subset of the messages between agents, trimming restricts the number of tokens that a chat model can use to respond.\n",
    "\n",
    "See the `trim_messages` below."
   ]
  },
  {
   "cell_type": "code",
   "execution_count": 14,
   "id": "2ff99b81-cf03-4cc2-b44f-44829a73e1fd",
   "metadata": {},
   "outputs": [
    {
     "data": {
      "image/png": "[encoded data removed]",
      "text/plain": [
       "<IPython.core.display.Image object>"
      ]
     },
     "metadata": {},
     "output_type": "display_data"
    }
   ],
   "source": [
    "from langchain_core.messages import trim_messages\n",
    "\n",
    "# Node\n",
    "def chat_model_node(state: MessagesState):\n",
    "    messages = trim_messages(\n",
    "            state[\"messages\"],\n",
    "            max_tokens=100,\n",
    "            strategy=\"last\",\n",
    "            token_counter=ChatVertexAI(model=\"gemini-pro\"),\n",
    "            allow_partial=False,\n",
    "        )\n",
    "    return {\"messages\": [llm.invoke(messages)]}\n",
    "\n",
    "# Build graph\n",
    "builder = StateGraph(MessagesState)\n",
    "builder.add_node(\"chat_model\", chat_model_node)\n",
    "builder.add_edge(START, \"chat_model\")\n",
    "builder.add_edge(\"chat_model\", END)\n",
    "graph = builder.compile()\n",
    "\n",
    "# View\n",
    "display(Image(graph.get_graph().draw_mermaid_png()))"
   ]
  },
  {
   "cell_type": "code",
   "execution_count": 15,
   "id": "24df63ac-da29-4874-b3df-7e390e97cc8a",
   "metadata": {},
   "outputs": [],
   "source": [
    "messages.append(output['messages'][-1])\n",
    "messages.append(HumanMessage(f\"Tell me where Orcas live!\", name=\"Lance\"))"
   ]
  },
  {
   "cell_type": "code",
   "execution_count": 22,
   "id": "6d9d8971-c75c-43ca-a209-eb1d07b2ead0",
   "metadata": {},
   "outputs": [
    {
     "data": {
      "text/plain": [
       "[HumanMessage(content='Yes, I know about whales. But what others should I learn about?', additional_kwargs={}, response_metadata={}, name='Lance', id='4'),\n",
       " AIMessage(content='That depends on your interests! Here are a few other ocean mammals you could learn about:\\n\\n**Smaller than whales:**\\n* **Dolphins & porpoises:** These playful animals are highly intelligent, social, and communicate with whistles and clicks.\\n* **Seals & Sea lions:** These agile swimmers use their flippers for both swimming and walking on land. Some bark and have visible ears! \\n* **Walrus:** These large animals have tusks and use them to break breathing holes in ice or dig up clams on the ocean floor.\\n* **Manatees & Dugongs:** These gentle herbivores graze on seagrass meadows and are sometimes called \"sea cows\". \\n\\n**More like whales:**\\n* **Porpoises:** Not to be confused with dolphins, porpoises have blunt, rounded faces, unlike dolphins\\' long beaks. \\n* **Baleen whales:** Instead of teeth, these whales have baleen plates to filter krill and other small creatures from the water. Examples include humpback whales and blue whales.\\n* **Toothed whales:** This diverse group includes dolphins, porpoises, and sperm whales, all of which catch prey with teeth.\\n\\n**Especially unique:**\\n\\n* **Sea otter:** This is the smallest marine mammal, and the only one known to use tools to open shellfish!\\n* **Polar bear:** Although it spends most of its time on land, the polar bear relies heavily on the ocean for food, primarily hunting seals. \\n\\nWhich ones seem the most interesting to you?', additional_kwargs={}, response_metadata={'is_blocked': False, 'safety_ratings': [{'category': 'HARM_CATEGORY_HATE_SPEECH', 'probability_label': 'NEGLIGIBLE', 'probability_score': 0.03173828125, 'blocked': False, 'severity': 'HARM_SEVERITY_NEGLIGIBLE', 'severity_score': 0.0439453125}, {'category': 'HARM_CATEGORY_DANGEROUS_CONTENT', 'probability_label': 'NEGLIGIBLE', 'probability_score': 0.09423828125, 'blocked': False, 'severity': 'HARM_SEVERITY_NEGLIGIBLE', 'severity_score': 0.130859375}, {'category': 'HARM_CATEGORY_HARASSMENT', 'probability_label': 'NEGLIGIBLE', 'probability_score': 0.08251953125, 'blocked': False, 'severity': 'HARM_SEVERITY_NEGLIGIBLE', 'severity_score': 0.0267333984375}, {'category': 'HARM_CATEGORY_SEXUALLY_EXPLICIT', 'probability_label': 'NEGLIGIBLE', 'probability_score': 0.1259765625, 'blocked': False, 'severity': 'HARM_SEVERITY_NEGLIGIBLE', 'severity_score': 0.052734375}], 'usage_metadata': {'prompt_token_count': 24, 'candidates_token_count': 317, 'total_token_count': 341, 'cached_content_token_count': 0}, 'finish_reason': 'STOP', 'avg_logprobs': -0.6925560502975897}, id='run-8f5d6f02-8c9e-4c56-9696-c1e25516205b-0', usage_metadata={'input_tokens': 24, 'output_tokens': 317, 'total_tokens': 341}),\n",
       " HumanMessage(content='Tell me where Orcas live!', additional_kwargs={}, response_metadata={}, name='Lance')]"
      ]
     },
     "execution_count": 22,
     "metadata": {},
     "output_type": "execute_result"
    }
   ],
   "source": [
    "# Example of trimming messages\n",
    "trim_messages(\n",
    "            messages,\n",
    "            max_tokens=350,\n",
    "            strategy=\"last\",\n",
    "            token_counter=ChatVertexAI(model=\"gemini-pro\"),\n",
    "            allow_partial=False\n",
    "        )"
   ]
  },
  {
   "cell_type": "code",
   "execution_count": 24,
   "id": "ed70a269-a869-4fa0-a1df-29736a432c51",
   "metadata": {},
   "outputs": [
    {
     "data": {
      "text/plain": [
       "{'messages': [AIMessage(content='Hi.', additional_kwargs={}, response_metadata={}, name='Bot', id='1'),\n",
       "  HumanMessage(content='Hi.', additional_kwargs={}, response_metadata={}, name='Lance', id='2'),\n",
       "  AIMessage(content='So you said you were researching ocean mammals?', additional_kwargs={}, response_metadata={}, name='Bot', id='3'),\n",
       "  HumanMessage(content='Yes, I know about whales. But what others should I learn about?', additional_kwargs={}, response_metadata={}, name='Lance', id='4'),\n",
       "  AIMessage(content='That depends on your interests! Here are a few other ocean mammals you could learn about:\\n\\n**Smaller than whales:**\\n* **Dolphins & porpoises:** These playful animals are highly intelligent, social, and communicate with whistles and clicks.\\n* **Seals & Sea lions:** These agile swimmers use their flippers for both swimming and walking on land. Some bark and have visible ears! \\n* **Walrus:** These large animals have tusks and use them to break breathing holes in ice or dig up clams on the ocean floor.\\n* **Manatees & Dugongs:** These gentle herbivores graze on seagrass meadows and are sometimes called \"sea cows\". \\n\\n**More like whales:**\\n* **Porpoises:** Not to be confused with dolphins, porpoises have blunt, rounded faces, unlike dolphins\\' long beaks. \\n* **Baleen whales:** Instead of teeth, these whales have baleen plates to filter krill and other small creatures from the water. Examples include humpback whales and blue whales.\\n* **Toothed whales:** This diverse group includes dolphins, porpoises, and sperm whales, all of which catch prey with teeth.\\n\\n**Especially unique:**\\n\\n* **Sea otter:** This is the smallest marine mammal, and the only one known to use tools to open shellfish!\\n* **Polar bear:** Although it spends most of its time on land, the polar bear relies heavily on the ocean for food, primarily hunting seals. \\n\\nWhich ones seem the most interesting to you?', additional_kwargs={}, response_metadata={'is_blocked': False, 'safety_ratings': [{'category': 'HARM_CATEGORY_HATE_SPEECH', 'probability_label': 'NEGLIGIBLE', 'probability_score': 0.03173828125, 'blocked': False, 'severity': 'HARM_SEVERITY_NEGLIGIBLE', 'severity_score': 0.0439453125}, {'category': 'HARM_CATEGORY_DANGEROUS_CONTENT', 'probability_label': 'NEGLIGIBLE', 'probability_score': 0.09423828125, 'blocked': False, 'severity': 'HARM_SEVERITY_NEGLIGIBLE', 'severity_score': 0.130859375}, {'category': 'HARM_CATEGORY_HARASSMENT', 'probability_label': 'NEGLIGIBLE', 'probability_score': 0.08251953125, 'blocked': False, 'severity': 'HARM_SEVERITY_NEGLIGIBLE', 'severity_score': 0.0267333984375}, {'category': 'HARM_CATEGORY_SEXUALLY_EXPLICIT', 'probability_label': 'NEGLIGIBLE', 'probability_score': 0.1259765625, 'blocked': False, 'severity': 'HARM_SEVERITY_NEGLIGIBLE', 'severity_score': 0.052734375}], 'usage_metadata': {'prompt_token_count': 24, 'candidates_token_count': 317, 'total_token_count': 341, 'cached_content_token_count': 0}, 'finish_reason': 'STOP', 'avg_logprobs': -0.6925560502975897}, id='run-8f5d6f02-8c9e-4c56-9696-c1e25516205b-0', usage_metadata={'input_tokens': 24, 'output_tokens': 317, 'total_tokens': 341}),\n",
       "  HumanMessage(content='Tell me where Orcas live!', additional_kwargs={}, response_metadata={}, name='Lance', id='07f6550b-db77-4d6f-b881-6b5919cbcfe8'),\n",
       "  AIMessage(content=\"Orcas, also known as killer whales, can be found in all oceans, from the Arctic to the Antarctic. However, they prefer cooler waters and are more common in coastal areas, particularly near areas with abundant prey. \\n\\nHere are some specific areas where Orcas are commonly found:\\n\\n**North Pacific:**\\n* Alaska\\n* British Columbia (Canada)\\n* Washington State (USA)\\n* Oregon (USA)\\n* California (USA)\\n\\n**North Atlantic:**\\n* Norway\\n* Iceland\\n* Greenland\\n* Scotland\\n* Newfoundland (Canada)\\n* Maine (USA)\\n\\n**Other areas:**\\n* New Zealand\\n* Argentina\\n* Chile\\n* South Africa\\n* Antarctica\\n\\nIt's important to note that Orcas are highly mobile and can travel long distances. Their movements are often influenced by the availability of prey, such as fish, seals, and penguins. \\n\\nWould you like to know more about where Orcas live, such as their specific habitat preferences or migration patterns? \\n\", additional_kwargs={}, response_metadata={'is_blocked': False, 'safety_ratings': [{'category': 'HARM_CATEGORY_HATE_SPEECH', 'probability_label': 'NEGLIGIBLE', 'probability_score': 0.0272216796875, 'blocked': False, 'severity': 'HARM_SEVERITY_NEGLIGIBLE', 'severity_score': 0.0390625}, {'category': 'HARM_CATEGORY_DANGEROUS_CONTENT', 'probability_label': 'NEGLIGIBLE', 'probability_score': 0.2412109375, 'blocked': False, 'severity': 'HARM_SEVERITY_NEGLIGIBLE', 'severity_score': 0.1416015625}, {'category': 'HARM_CATEGORY_HARASSMENT', 'probability_label': 'NEGLIGIBLE', 'probability_score': 0.08740234375, 'blocked': False, 'severity': 'HARM_SEVERITY_NEGLIGIBLE', 'severity_score': 0.03955078125}, {'category': 'HARM_CATEGORY_SEXUALLY_EXPLICIT', 'probability_label': 'NEGLIGIBLE', 'probability_score': 0.07177734375, 'blocked': False, 'severity': 'HARM_SEVERITY_NEGLIGIBLE', 'severity_score': 0.0517578125}], 'usage_metadata': {'prompt_token_count': 7, 'candidates_token_count': 208, 'total_token_count': 215, 'cached_content_token_count': 0}, 'finish_reason': 'STOP', 'avg_logprobs': -0.35562904064471906}, id='run-af485bc6-bd69-445a-8855-fe6c6e01e4c8-0', usage_metadata={'input_tokens': 7, 'output_tokens': 208, 'total_tokens': 215})]}"
      ]
     },
     "execution_count": 24,
     "metadata": {},
     "output_type": "execute_result"
    }
   ],
   "source": [
    "# Invoke, using message trimming in the chat_model_node \n",
    "messages_out_trim = graph.invoke({'messages': messages})\n",
    "messages_out_trim"
   ]
  },
  {
   "cell_type": "code",
   "execution_count": 23,
   "id": "cd99e4e7-6d4d-4339-93ec-b94005182248",
   "metadata": {},
   "outputs": [],
   "source": [
    "# Invoke, using message trimming in the chat_model_node \n",
    "messages_out_trim = graph.invoke({'messages': messages})"
   ]
  },
  {
   "cell_type": "code",
   "execution_count": 23,
   "id": "d96ac5b6-d310-4133-a19e-dc0589cad170",
   "metadata": {},
   "outputs": [],
   "source": [
    "# Invoke, using message trimming in the chat_model_node \n",
    "messages_out_trim = graph.invoke({'messages': messages})"
   ]
  },
  {
   "cell_type": "code",
   "execution_count": null,
   "id": "e20b03d5-a66b-43d5-9430-913d8221fe2e",
   "metadata": {},
   "outputs": [],
   "source": []
  },
  {
   "cell_type": "markdown",
   "id": "38b3db67-380e-46b5-9a6a-20100ba52008",
   "metadata": {},
   "source": [
    "Let's look at the LangSmith trace to see the model invocation:\n",
    "\n",
    "https://smith.langchain.com/public/b153f7e9-f1a5-4d60-8074-f0d7ab5b42ef/r"
   ]
  }
 ],
 "metadata": {
  "kernelspec": {
   "display_name": "Python 3 (ipykernel)",
   "language": "python",
   "name": "python3"
  },
  "language_info": {
   "codemirror_mode": {
    "name": "ipython",
    "version": 3
   },
   "file_extension": ".py",
   "mimetype": "text/x-python",
   "name": "python",
   "nbconvert_exporter": "python",
   "pygments_lexer": "ipython3",
   "version": "3.12.1"
  }
 },
 "nbformat": 4,
 "nbformat_minor": 5
}
