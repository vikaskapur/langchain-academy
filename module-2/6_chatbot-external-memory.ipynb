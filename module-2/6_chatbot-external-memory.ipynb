{
 "cells": [
  {
   "cell_type": "markdown",
   "id": "cf7ccb32",
   "metadata": {},
   "source": [
    "[![Open in Colab](https://colab.research.google.com/assets/colab-badge.svg)](https://colab.research.google.com/github/langchain-ai/langchain-academy/blob/main/module-2/chatbot-external-memory.ipynb) [![Open in LangChain Academy](https://cdn.prod.website-files.com/65b8cd72835ceeacd4449a53/66e9eba12c7b7688aa3dbb5e_LCA-badge-green.svg)](https://academy.langchain.com/courses/take/intro-to-langgraph/lessons/58239440-lesson-6-chatbot-w-summarizing-messages-and-external-memory)"
   ]
  },
  {
   "cell_type": "markdown",
   "id": "af6c7afe-1037-41ab-98e4-494692e47402",
   "metadata": {},
   "source": [
    "# Chatbot with message summarization & external DB memory\n",
    "\n",
    "## Review\n",
    "\n",
    "We've covered how to customize graph state schema and reducer. \n",
    " \n",
    "We've also shown a number of tricks for trimming or filtering messages in graph state. \n",
    "\n",
    "We've used these concepts in a Chatbot with memory that produces a running summary of the conversation.\n",
    "\n",
    "## Goals\n",
    "\n",
    "But, what if we want our Chatbot to have memory that persists indefinitely?\n",
    "\n",
    "Now, we'll introduce some more advanced checkpointers that support external databases. \n",
    "\n",
    "Here, we'll show how to use [Sqlite as a checkpointer](https://langchain-ai.github.io/langgraph/concepts/low_level/#checkpointer), but other checkpointers, such as [Postgres](https://langchain-ai.github.io/langgraph/how-tos/persistence_postgres/) are available!"
   ]
  },
  {
   "cell_type": "code",
   "execution_count": 5,
   "id": "85ed78d9-6ca2-45ac-96a9-52e341ec519d",
   "metadata": {},
   "outputs": [],
   "source": [
    "%%capture --no-stderr\n",
    "%pip install --quiet -U langgraph-checkpoint-sqlite langchain_core langgraph langchain_openai"
   ]
  },
  {
   "cell_type": "code",
   "execution_count": null,
   "id": "2e10c4d4",
   "metadata": {},
   "outputs": [],
   "source": [
    "import os, getpass\n",
    "\n",
    "def _set_env(var: str):\n",
    "    if not os.environ.get(var):\n",
    "        os.environ[var] = getpass.getpass(f\"{var}: \")\n",
    "\n",
    "_set_env(\"OPENAI_API_KEY\")"
   ]
  },
  {
   "cell_type": "code",
   "execution_count": 1,
   "id": "483ff574-28db-44d3-bf65-1cd2e7481fe5",
   "metadata": {},
   "outputs": [
    {
     "data": {
      "text/plain": [
       "True"
      ]
     },
     "execution_count": 1,
     "metadata": {},
     "output_type": "execute_result"
    }
   ],
   "source": [
    "from dotenv import load_dotenv\n",
    "load_dotenv()"
   ]
  },
  {
   "cell_type": "markdown",
   "id": "b40d25c0-e9b5-4854-bf07-3cc3ff07122e",
   "metadata": {},
   "source": [
    "## Sqlite\n",
    "\n",
    "A good starting point here is the [SqliteSaver checkpointer](https://langchain-ai.github.io/langgraph/concepts/low_level/#checkpointer).\n",
    "\n",
    "Sqlite is a [small, fast, highly popular](https://x.com/karpathy/status/1819490455664685297) SQL database. \n",
    " \n",
    "If we supply `\":memory:\"` it creates an in-memory Sqlite database."
   ]
  },
  {
   "cell_type": "code",
   "execution_count": 2,
   "id": "fae15402-17ae-4e89-8ecf-4c89e08b22fe",
   "metadata": {},
   "outputs": [],
   "source": [
    "import sqlite3\n",
    "# In memory\n",
    "conn = sqlite3.connect(\":memory:\", check_same_thread = False)"
   ]
  },
  {
   "cell_type": "markdown",
   "id": "c2bf53ec-6d4a-42ce-8183-344795eed403",
   "metadata": {},
   "source": [
    "But, if we supply a db path, then it will create a database for us!"
   ]
  },
  {
   "cell_type": "code",
   "execution_count": 3,
   "id": "58339167-920c-4994-a0a7-0a9c5d4f7cf7",
   "metadata": {},
   "outputs": [],
   "source": [
    "# pull file if it doesn't exist and connect to local db\n",
    "!mkdir -p state_db && [ ! -f state_db/example.db ] && wget -P state_db https://github.com/langchain-ai/langchain-academy/raw/main/module-2/state_db/example.db\n",
    "\n",
    "db_path = \"state_db/example.db\"\n",
    "conn = sqlite3.connect(db_path, check_same_thread=False)"
   ]
  },
  {
   "cell_type": "code",
   "execution_count": 12,
   "id": "e303f6f9-4e44-401a-a4ff-8160c1f70d6e",
   "metadata": {},
   "outputs": [
    {
     "data": {
      "text/plain": [
       "[('table',\n",
       "  'checkpoints',\n",
       "  'checkpoints',\n",
       "  2,\n",
       "  \"CREATE TABLE checkpoints (\\n                thread_id TEXT NOT NULL,\\n                checkpoint_ns TEXT NOT NULL DEFAULT '',\\n                checkpoint_id TEXT NOT NULL,\\n                parent_checkpoint_id TEXT,\\n                type TEXT,\\n                checkpoint BLOB,\\n                metadata BLOB,\\n                PRIMARY KEY (thread_id, checkpoint_ns, checkpoint_id)\\n            )\"),\n",
       " ('table',\n",
       "  'writes',\n",
       "  'writes',\n",
       "  4,\n",
       "  \"CREATE TABLE writes (\\n                thread_id TEXT NOT NULL,\\n                checkpoint_ns TEXT NOT NULL DEFAULT '',\\n                checkpoint_id TEXT NOT NULL,\\n                task_id TEXT NOT NULL,\\n                idx INTEGER NOT NULL,\\n                channel TEXT NOT NULL,\\n                type TEXT,\\n                value BLOB,\\n                PRIMARY KEY (thread_id, checkpoint_ns, checkpoint_id, task_id, idx)\\n            )\")]"
      ]
     },
     "execution_count": 12,
     "metadata": {},
     "output_type": "execute_result"
    }
   ],
   "source": [
    "cur = conn.cursor()\n",
    "res = cur.execute(\"SELECT * FROM sqlite_master WHERE type='table';\")\n",
    "res.fetchall()"
   ]
  },
  {
   "cell_type": "code",
   "execution_count": 13,
   "id": "4306c5dd-f23f-48a0-9f91-fc011c824504",
   "metadata": {},
   "outputs": [
    {
     "data": {
      "text/plain": [
       "[('1',\n",
       "  '',\n",
       "  '1ef64b22-3155-65d8-bfff-cb35a53ab872',\n",
       "  None,\n",
       "  'json',\n",
       "  b'{\"v\": 1, \"ts\": \"2024-08-27T20:22:52.733166+00:00\", \"id\": \"1ef64b22-3155-65d8-bfff-cb35a53ab872\", \"channel_values\": {\"messages\": [], \"__start__\": {\"messages\": [{\"lc\": 1, \"type\": \"constructor\", \"id\": [\"langchain\", \"schema\", \"messages\", \"HumanMessage\"], \"kwargs\": {\"content\": \"hi! I\\'m Lance\", \"type\": \"human\"}}]}}, \"channel_versions\": {\"__start__\": \"00000000000000000000000000000001.761a8c54329ca020d4813f3f8164401b\"}, \"versions_seen\": {\"__input__\": {}}, \"pending_sends\": [], \"current_tasks\": {}}',\n",
       "  b'{\"source\": \"input\", \"writes\": {\"messages\": [{\"lc\": 1, \"type\": \"constructor\", \"id\": [\"langchain\", \"schema\", \"messages\", \"HumanMessage\"], \"kwargs\": {\"content\": \"hi! I\\'m Lance\", \"type\": \"human\"}}]}, \"step\": -1}'),\n",
       " ('1',\n",
       "  '',\n",
       "  '1ef64b22-315d-6eae-8000-a235a23be95b',\n",
       "  '1ef64b22-3155-65d8-bfff-cb35a53ab872',\n",
       "  'json',\n",
       "  b'{\"v\": 1, \"ts\": \"2024-08-27T20:22:52.736675+00:00\", \"id\": \"1ef64b22-315d-6eae-8000-a235a23be95b\", \"channel_values\": {\"messages\": [{\"lc\": 1, \"type\": \"constructor\", \"id\": [\"langchain\", \"schema\", \"messages\", \"HumanMessage\"], \"kwargs\": {\"content\": \"hi! I\\'m Lance\", \"type\": \"human\", \"id\": \"20dcd0d2-29e3-4bd0-a83e-74485a28e3e0\"}}], \"start:conversation\": \"__start__\"}, \"channel_versions\": {\"__start__\": \"00000000000000000000000000000002.\", \"messages\": \"00000000000000000000000000000002.d276c707b06ba21bedb4e6de234b4042\", \"start:conversation\": \"00000000000000000000000000000002.d6f25946c3108fc12f27abbcf9b4cedc\"}, \"versions_seen\": {\"__input__\": {}, \"__start__\": {\"__start__\": \"00000000000000000000000000000001.761a8c54329ca020d4813f3f8164401b\"}}, \"pending_sends\": [], \"current_tasks\": {}}',\n",
       "  b'{\"source\": \"loop\", \"writes\": null, \"step\": 0}'),\n",
       " ('1',\n",
       "  '',\n",
       "  '1ef64b22-3f46-65de-8001-dc95c3aa36b9',\n",
       "  '1ef64b22-315d-6eae-8000-a235a23be95b',\n",
       "  'json',\n",
       "  b'{\"v\": 1, \"ts\": \"2024-08-27T20:22:54.195031+00:00\", \"id\": \"1ef64b22-3f46-65de-8001-dc95c3aa36b9\", \"channel_values\": {\"messages\": [{\"lc\": 1, \"type\": \"constructor\", \"id\": [\"langchain\", \"schema\", \"messages\", \"HumanMessage\"], \"kwargs\": {\"content\": \"hi! I\\'m Lance\", \"type\": \"human\", \"id\": \"20dcd0d2-29e3-4bd0-a83e-74485a28e3e0\"}}, {\"lc\": 1, \"type\": \"constructor\", \"id\": [\"langchain\", \"schema\", \"messages\", \"AIMessage\"], \"kwargs\": {\"content\": \"Hello Lance! It\\'s nice to meet you. I\\'m an AI assistant. How can I help you today? Is there anything specific you\\'d like to chat about or any questions you have?\", \"response_metadata\": {\"id\": \"msg_01B8rZ3xtSFMAjbCkjmkekZP\", \"model\": \"claude-3-5-sonnet-20240620\", \"stop_reason\": \"end_turn\", \"stop_sequence\": null, \"usage\": {\"input_tokens\": 12, \"output_tokens\": 42}}, \"type\": \"ai\", \"id\": \"run-f2807f1f-9e42-4f38-a137-056980bf3fb7-0\", \"usage_metadata\": {\"input_tokens\": 12, \"output_tokens\": 42, \"total_tokens\": 54}, \"tool_calls\": [], \"invalid_tool_calls\": []}}], \"conversation\": \"conversation\"}, \"channel_versions\": {\"__start__\": \"00000000000000000000000000000002.\", \"messages\": \"00000000000000000000000000000003.9ba75b73e61cc4bf2b762ddb2ad37426\", \"start:conversation\": \"00000000000000000000000000000003.\", \"conversation\": \"00000000000000000000000000000003.c1a9456cbcb093548c8af8548661d954\"}, \"versions_seen\": {\"__input__\": {}, \"__start__\": {\"__start__\": \"00000000000000000000000000000001.761a8c54329ca020d4813f3f8164401b\"}, \"conversation\": {\"start:conversation\": \"00000000000000000000000000000002.d6f25946c3108fc12f27abbcf9b4cedc\"}}, \"pending_sends\": [], \"current_tasks\": {}}',\n",
       "  b'{\"source\": \"loop\", \"writes\": {\"conversation\": {\"messages\": {\"lc\": 1, \"type\": \"constructor\", \"id\": [\"langchain\", \"schema\", \"messages\", \"AIMessage\"], \"kwargs\": {\"content\": \"Hello Lance! It\\'s nice to meet you. I\\'m an AI assistant. How can I help you today? Is there anything specific you\\'d like to chat about or any questions you have?\", \"response_metadata\": {\"id\": \"msg_01B8rZ3xtSFMAjbCkjmkekZP\", \"model\": \"claude-3-5-sonnet-20240620\", \"stop_reason\": \"end_turn\", \"stop_sequence\": null, \"usage\": {\"input_tokens\": 12, \"output_tokens\": 42}}, \"type\": \"ai\", \"id\": \"run-f2807f1f-9e42-4f38-a137-056980bf3fb7-0\", \"usage_metadata\": {\"input_tokens\": 12, \"output_tokens\": 42, \"total_tokens\": 54}, \"tool_calls\": [], \"invalid_tool_calls\": []}}}}, \"step\": 1}'),\n",
       " ('1',\n",
       "  '',\n",
       "  '1ef64b22-3f51-6ede-8002-09bf7a5b4b77',\n",
       "  '1ef64b22-3f46-65de-8001-dc95c3aa36b9',\n",
       "  'json',\n",
       "  b'{\"v\": 1, \"ts\": \"2024-08-27T20:22:54.199769+00:00\", \"id\": \"1ef64b22-3f51-6ede-8002-09bf7a5b4b77\", \"channel_values\": {\"messages\": [{\"lc\": 1, \"type\": \"constructor\", \"id\": [\"langchain\", \"schema\", \"messages\", \"HumanMessage\"], \"kwargs\": {\"content\": \"hi! I\\'m Lance\", \"type\": \"human\", \"id\": \"20dcd0d2-29e3-4bd0-a83e-74485a28e3e0\"}}, {\"lc\": 1, \"type\": \"constructor\", \"id\": [\"langchain\", \"schema\", \"messages\", \"AIMessage\"], \"kwargs\": {\"content\": \"Hello Lance! It\\'s nice to meet you. I\\'m an AI assistant. How can I help you today? Is there anything specific you\\'d like to chat about or any questions you have?\", \"response_metadata\": {\"id\": \"msg_01B8rZ3xtSFMAjbCkjmkekZP\", \"model\": \"claude-3-5-sonnet-20240620\", \"stop_reason\": \"end_turn\", \"stop_sequence\": null, \"usage\": {\"input_tokens\": 12, \"output_tokens\": 42}}, \"type\": \"ai\", \"id\": \"run-f2807f1f-9e42-4f38-a137-056980bf3fb7-0\", \"usage_metadata\": {\"input_tokens\": 12, \"output_tokens\": 42, \"total_tokens\": 54}, \"tool_calls\": [], \"invalid_tool_calls\": []}}], \"__start__\": {\"messages\": [{\"lc\": 1, \"type\": \"constructor\", \"id\": [\"langchain\", \"schema\", \"messages\", \"HumanMessage\"], \"kwargs\": {\"content\": \"what\\'s my name?\", \"type\": \"human\"}}]}}, \"channel_versions\": {\"__start__\": \"00000000000000000000000000000004.b0a325fdc12ba7b8fa1dda770409296e\", \"messages\": \"00000000000000000000000000000003.9ba75b73e61cc4bf2b762ddb2ad37426\", \"start:conversation\": \"00000000000000000000000000000003.\", \"conversation\": \"00000000000000000000000000000004.\"}, \"versions_seen\": {\"__input__\": {}, \"__start__\": {\"__start__\": \"00000000000000000000000000000001.761a8c54329ca020d4813f3f8164401b\"}, \"conversation\": {\"start:conversation\": \"00000000000000000000000000000002.d6f25946c3108fc12f27abbcf9b4cedc\"}}, \"pending_sends\": [], \"current_tasks\": {}}',\n",
       "  b'{\"source\": \"input\", \"writes\": {\"messages\": [{\"lc\": 1, \"type\": \"constructor\", \"id\": [\"langchain\", \"schema\", \"messages\", \"HumanMessage\"], \"kwargs\": {\"content\": \"what\\'s my name?\", \"type\": \"human\"}}]}, \"step\": 2}'),\n",
       " ('1',\n",
       "  '',\n",
       "  '1ef64b22-3f55-671e-8003-e2790bf40803',\n",
       "  '1ef64b22-3f51-6ede-8002-09bf7a5b4b77',\n",
       "  'json',\n",
       "  b'{\"v\": 1, \"ts\": \"2024-08-27T20:22:54.201210+00:00\", \"id\": \"1ef64b22-3f55-671e-8003-e2790bf40803\", \"channel_values\": {\"messages\": [{\"lc\": 1, \"type\": \"constructor\", \"id\": [\"langchain\", \"schema\", \"messages\", \"HumanMessage\"], \"kwargs\": {\"content\": \"hi! I\\'m Lance\", \"type\": \"human\", \"id\": \"20dcd0d2-29e3-4bd0-a83e-74485a28e3e0\"}}, {\"lc\": 1, \"type\": \"constructor\", \"id\": [\"langchain\", \"schema\", \"messages\", \"AIMessage\"], \"kwargs\": {\"content\": \"Hello Lance! It\\'s nice to meet you. I\\'m an AI assistant. How can I help you today? Is there anything specific you\\'d like to chat about or any questions you have?\", \"response_metadata\": {\"id\": \"msg_01B8rZ3xtSFMAjbCkjmkekZP\", \"model\": \"claude-3-5-sonnet-20240620\", \"stop_reason\": \"end_turn\", \"stop_sequence\": null, \"usage\": {\"input_tokens\": 12, \"output_tokens\": 42}}, \"type\": \"ai\", \"id\": \"run-f2807f1f-9e42-4f38-a137-056980bf3fb7-0\", \"usage_metadata\": {\"input_tokens\": 12, \"output_tokens\": 42, \"total_tokens\": 54}, \"tool_calls\": [], \"invalid_tool_calls\": []}}, {\"lc\": 1, \"type\": \"constructor\", \"id\": [\"langchain\", \"schema\", \"messages\", \"HumanMessage\"], \"kwargs\": {\"content\": \"what\\'s my name?\", \"type\": \"human\", \"id\": \"47060bc4-3d2e-4a93-b936-11fb6945a3d3\"}}], \"start:conversation\": \"__start__\"}, \"channel_versions\": {\"__start__\": \"00000000000000000000000000000005.\", \"messages\": \"00000000000000000000000000000005.554dc2b09c432f973dbf3f8c60a6a5e7\", \"start:conversation\": \"00000000000000000000000000000005.d6f25946c3108fc12f27abbcf9b4cedc\", \"conversation\": \"00000000000000000000000000000004.\"}, \"versions_seen\": {\"__input__\": {}, \"__start__\": {\"__start__\": \"00000000000000000000000000000004.b0a325fdc12ba7b8fa1dda770409296e\"}, \"conversation\": {\"start:conversation\": \"00000000000000000000000000000002.d6f25946c3108fc12f27abbcf9b4cedc\"}}, \"pending_sends\": [], \"current_tasks\": {}}',\n",
       "  b'{\"source\": \"loop\", \"writes\": null, \"step\": 3}'),\n",
       " ('1',\n",
       "  '',\n",
       "  '1ef64b22-4968-63d2-8004-73fea5c841d3',\n",
       "  '1ef64b22-3f55-671e-8003-e2790bf40803',\n",
       "  'json',\n",
       "  b'{\"v\": 1, \"ts\": \"2024-08-27T20:22:55.257479+00:00\", \"id\": \"1ef64b22-4968-63d2-8004-73fea5c841d3\", \"channel_values\": {\"messages\": [{\"lc\": 1, \"type\": \"constructor\", \"id\": [\"langchain\", \"schema\", \"messages\", \"HumanMessage\"], \"kwargs\": {\"content\": \"hi! I\\'m Lance\", \"type\": \"human\", \"id\": \"20dcd0d2-29e3-4bd0-a83e-74485a28e3e0\"}}, {\"lc\": 1, \"type\": \"constructor\", \"id\": [\"langchain\", \"schema\", \"messages\", \"AIMessage\"], \"kwargs\": {\"content\": \"Hello Lance! It\\'s nice to meet you. I\\'m an AI assistant. How can I help you today? Is there anything specific you\\'d like to chat about or any questions you have?\", \"response_metadata\": {\"id\": \"msg_01B8rZ3xtSFMAjbCkjmkekZP\", \"model\": \"claude-3-5-sonnet-20240620\", \"stop_reason\": \"end_turn\", \"stop_sequence\": null, \"usage\": {\"input_tokens\": 12, \"output_tokens\": 42}}, \"type\": \"ai\", \"id\": \"run-f2807f1f-9e42-4f38-a137-056980bf3fb7-0\", \"usage_metadata\": {\"input_tokens\": 12, \"output_tokens\": 42, \"total_tokens\": 54}, \"tool_calls\": [], \"invalid_tool_calls\": []}}, {\"lc\": 1, \"type\": \"constructor\", \"id\": [\"langchain\", \"schema\", \"messages\", \"HumanMessage\"], \"kwargs\": {\"content\": \"what\\'s my name?\", \"type\": \"human\", \"id\": \"47060bc4-3d2e-4a93-b936-11fb6945a3d3\"}}, {\"lc\": 1, \"type\": \"constructor\", \"id\": [\"langchain\", \"schema\", \"messages\", \"AIMessage\"], \"kwargs\": {\"content\": \"Your name is Lance, as you introduced yourself at the beginning of our conversation.\", \"response_metadata\": {\"id\": \"msg_01UoPuipM62SDxFiMvkprFyt\", \"model\": \"claude-3-5-sonnet-20240620\", \"stop_reason\": \"end_turn\", \"stop_sequence\": null, \"usage\": {\"input_tokens\": 62, \"output_tokens\": 19}}, \"type\": \"ai\", \"id\": \"run-277861df-84b6-40f7-b63d-f8321db48621-0\", \"usage_metadata\": {\"input_tokens\": 62, \"output_tokens\": 19, \"total_tokens\": 81}, \"tool_calls\": [], \"invalid_tool_calls\": []}}], \"conversation\": \"conversation\"}, \"channel_versions\": {\"__start__\": \"00000000000000000000000000000005.\", \"messages\": \"00000000000000000000000000000006.7729d34158fc51694fc311bf11f9bb9e\", \"start:conversation\": \"00000000000000000000000000000006.\", \"conversation\": \"00000000000000000000000000000006.c1a9456cbcb093548c8af8548661d954\"}, \"versions_seen\": {\"__input__\": {}, \"__start__\": {\"__start__\": \"00000000000000000000000000000004.b0a325fdc12ba7b8fa1dda770409296e\"}, \"conversation\": {\"start:conversation\": \"00000000000000000000000000000005.d6f25946c3108fc12f27abbcf9b4cedc\"}}, \"pending_sends\": [], \"current_tasks\": {}}',\n",
       "  b'{\"source\": \"loop\", \"writes\": {\"conversation\": {\"messages\": {\"lc\": 1, \"type\": \"constructor\", \"id\": [\"langchain\", \"schema\", \"messages\", \"AIMessage\"], \"kwargs\": {\"content\": \"Your name is Lance, as you introduced yourself at the beginning of our conversation.\", \"response_metadata\": {\"id\": \"msg_01UoPuipM62SDxFiMvkprFyt\", \"model\": \"claude-3-5-sonnet-20240620\", \"stop_reason\": \"end_turn\", \"stop_sequence\": null, \"usage\": {\"input_tokens\": 62, \"output_tokens\": 19}}, \"type\": \"ai\", \"id\": \"run-277861df-84b6-40f7-b63d-f8321db48621-0\", \"usage_metadata\": {\"input_tokens\": 62, \"output_tokens\": 19, \"total_tokens\": 81}, \"tool_calls\": [], \"invalid_tool_calls\": []}}}}, \"step\": 4}'),\n",
       " ('1',\n",
       "  '',\n",
       "  '1ef64b22-4972-6c88-8005-907852fe92dd',\n",
       "  '1ef64b22-4968-63d2-8004-73fea5c841d3',\n",
       "  'json',\n",
       "  b'{\"v\": 1, \"ts\": \"2024-08-27T20:22:55.261803+00:00\", \"id\": \"1ef64b22-4972-6c88-8005-907852fe92dd\", \"channel_values\": {\"messages\": [{\"lc\": 1, \"type\": \"constructor\", \"id\": [\"langchain\", \"schema\", \"messages\", \"HumanMessage\"], \"kwargs\": {\"content\": \"hi! I\\'m Lance\", \"type\": \"human\", \"id\": \"20dcd0d2-29e3-4bd0-a83e-74485a28e3e0\"}}, {\"lc\": 1, \"type\": \"constructor\", \"id\": [\"langchain\", \"schema\", \"messages\", \"AIMessage\"], \"kwargs\": {\"content\": \"Hello Lance! It\\'s nice to meet you. I\\'m an AI assistant. How can I help you today? Is there anything specific you\\'d like to chat about or any questions you have?\", \"response_metadata\": {\"id\": \"msg_01B8rZ3xtSFMAjbCkjmkekZP\", \"model\": \"claude-3-5-sonnet-20240620\", \"stop_reason\": \"end_turn\", \"stop_sequence\": null, \"usage\": {\"input_tokens\": 12, \"output_tokens\": 42}}, \"type\": \"ai\", \"id\": \"run-f2807f1f-9e42-4f38-a137-056980bf3fb7-0\", \"usage_metadata\": {\"input_tokens\": 12, \"output_tokens\": 42, \"total_tokens\": 54}, \"tool_calls\": [], \"invalid_tool_calls\": []}}, {\"lc\": 1, \"type\": \"constructor\", \"id\": [\"langchain\", \"schema\", \"messages\", \"HumanMessage\"], \"kwargs\": {\"content\": \"what\\'s my name?\", \"type\": \"human\", \"id\": \"47060bc4-3d2e-4a93-b936-11fb6945a3d3\"}}, {\"lc\": 1, \"type\": \"constructor\", \"id\": [\"langchain\", \"schema\", \"messages\", \"AIMessage\"], \"kwargs\": {\"content\": \"Your name is Lance, as you introduced yourself at the beginning of our conversation.\", \"response_metadata\": {\"id\": \"msg_01UoPuipM62SDxFiMvkprFyt\", \"model\": \"claude-3-5-sonnet-20240620\", \"stop_reason\": \"end_turn\", \"stop_sequence\": null, \"usage\": {\"input_tokens\": 62, \"output_tokens\": 19}}, \"type\": \"ai\", \"id\": \"run-277861df-84b6-40f7-b63d-f8321db48621-0\", \"usage_metadata\": {\"input_tokens\": 62, \"output_tokens\": 19, \"total_tokens\": 81}, \"tool_calls\": [], \"invalid_tool_calls\": []}}], \"__start__\": {\"messages\": [{\"lc\": 1, \"type\": \"constructor\", \"id\": [\"langchain\", \"schema\", \"messages\", \"HumanMessage\"], \"kwargs\": {\"content\": \"i like the 49ers!\", \"type\": \"human\"}}]}}, \"channel_versions\": {\"__start__\": \"00000000000000000000000000000007.36d4d2562fc3b5592c87c1e8386709ef\", \"messages\": \"00000000000000000000000000000006.7729d34158fc51694fc311bf11f9bb9e\", \"start:conversation\": \"00000000000000000000000000000006.\", \"conversation\": \"00000000000000000000000000000007.\"}, \"versions_seen\": {\"__input__\": {}, \"__start__\": {\"__start__\": \"00000000000000000000000000000004.b0a325fdc12ba7b8fa1dda770409296e\"}, \"conversation\": {\"start:conversation\": \"00000000000000000000000000000005.d6f25946c3108fc12f27abbcf9b4cedc\"}}, \"pending_sends\": [], \"current_tasks\": {}}',\n",
       "  b'{\"source\": \"input\", \"writes\": {\"messages\": [{\"lc\": 1, \"type\": \"constructor\", \"id\": [\"langchain\", \"schema\", \"messages\", \"HumanMessage\"], \"kwargs\": {\"content\": \"i like the 49ers!\", \"type\": \"human\"}}]}, \"step\": 5}'),\n",
       " ('1',\n",
       "  '',\n",
       "  '1ef64b22-4976-65ea-8006-f62b88bfc879',\n",
       "  '1ef64b22-4972-6c88-8005-907852fe92dd',\n",
       "  'json',\n",
       "  b'{\"v\": 1, \"ts\": \"2024-08-27T20:22:55.263273+00:00\", \"id\": \"1ef64b22-4976-65ea-8006-f62b88bfc879\", \"channel_values\": {\"messages\": [{\"lc\": 1, \"type\": \"constructor\", \"id\": [\"langchain\", \"schema\", \"messages\", \"HumanMessage\"], \"kwargs\": {\"content\": \"hi! I\\'m Lance\", \"type\": \"human\", \"id\": \"20dcd0d2-29e3-4bd0-a83e-74485a28e3e0\"}}, {\"lc\": 1, \"type\": \"constructor\", \"id\": [\"langchain\", \"schema\", \"messages\", \"AIMessage\"], \"kwargs\": {\"content\": \"Hello Lance! It\\'s nice to meet you. I\\'m an AI assistant. How can I help you today? Is there anything specific you\\'d like to chat about or any questions you have?\", \"response_metadata\": {\"id\": \"msg_01B8rZ3xtSFMAjbCkjmkekZP\", \"model\": \"claude-3-5-sonnet-20240620\", \"stop_reason\": \"end_turn\", \"stop_sequence\": null, \"usage\": {\"input_tokens\": 12, \"output_tokens\": 42}}, \"type\": \"ai\", \"id\": \"run-f2807f1f-9e42-4f38-a137-056980bf3fb7-0\", \"usage_metadata\": {\"input_tokens\": 12, \"output_tokens\": 42, \"total_tokens\": 54}, \"tool_calls\": [], \"invalid_tool_calls\": []}}, {\"lc\": 1, \"type\": \"constructor\", \"id\": [\"langchain\", \"schema\", \"messages\", \"HumanMessage\"], \"kwargs\": {\"content\": \"what\\'s my name?\", \"type\": \"human\", \"id\": \"47060bc4-3d2e-4a93-b936-11fb6945a3d3\"}}, {\"lc\": 1, \"type\": \"constructor\", \"id\": [\"langchain\", \"schema\", \"messages\", \"AIMessage\"], \"kwargs\": {\"content\": \"Your name is Lance, as you introduced yourself at the beginning of our conversation.\", \"response_metadata\": {\"id\": \"msg_01UoPuipM62SDxFiMvkprFyt\", \"model\": \"claude-3-5-sonnet-20240620\", \"stop_reason\": \"end_turn\", \"stop_sequence\": null, \"usage\": {\"input_tokens\": 62, \"output_tokens\": 19}}, \"type\": \"ai\", \"id\": \"run-277861df-84b6-40f7-b63d-f8321db48621-0\", \"usage_metadata\": {\"input_tokens\": 62, \"output_tokens\": 19, \"total_tokens\": 81}, \"tool_calls\": [], \"invalid_tool_calls\": []}}, {\"lc\": 1, \"type\": \"constructor\", \"id\": [\"langchain\", \"schema\", \"messages\", \"HumanMessage\"], \"kwargs\": {\"content\": \"i like the 49ers!\", \"type\": \"human\", \"id\": \"b58aa3d9-3390-4a79-b014-9e4fe14d5421\"}}], \"start:conversation\": \"__start__\"}, \"channel_versions\": {\"__start__\": \"00000000000000000000000000000008.\", \"messages\": \"00000000000000000000000000000008.1067a3007c46d8e908e30363094527b7\", \"start:conversation\": \"00000000000000000000000000000008.d6f25946c3108fc12f27abbcf9b4cedc\", \"conversation\": \"00000000000000000000000000000007.\"}, \"versions_seen\": {\"__input__\": {}, \"__start__\": {\"__start__\": \"00000000000000000000000000000007.36d4d2562fc3b5592c87c1e8386709ef\"}, \"conversation\": {\"start:conversation\": \"00000000000000000000000000000005.d6f25946c3108fc12f27abbcf9b4cedc\"}}, \"pending_sends\": [], \"current_tasks\": {}}',\n",
       "  b'{\"source\": \"loop\", \"writes\": null, \"step\": 6}'),\n",
       " ('1',\n",
       "  '',\n",
       "  '1ef64b22-5ebe-6fce-8007-1bbc55cee878',\n",
       "  '1ef64b22-4976-65ea-8006-f62b88bfc879',\n",
       "  'json',\n",
       "  b'{\"v\": 1, \"ts\": \"2024-08-27T20:22:57.495025+00:00\", \"id\": \"1ef64b22-5ebe-6fce-8007-1bbc55cee878\", \"channel_values\": {\"messages\": [{\"lc\": 1, \"type\": \"constructor\", \"id\": [\"langchain\", \"schema\", \"messages\", \"HumanMessage\"], \"kwargs\": {\"content\": \"hi! I\\'m Lance\", \"type\": \"human\", \"id\": \"20dcd0d2-29e3-4bd0-a83e-74485a28e3e0\"}}, {\"lc\": 1, \"type\": \"constructor\", \"id\": [\"langchain\", \"schema\", \"messages\", \"AIMessage\"], \"kwargs\": {\"content\": \"Hello Lance! It\\'s nice to meet you. I\\'m an AI assistant. How can I help you today? Is there anything specific you\\'d like to chat about or any questions you have?\", \"response_metadata\": {\"id\": \"msg_01B8rZ3xtSFMAjbCkjmkekZP\", \"model\": \"claude-3-5-sonnet-20240620\", \"stop_reason\": \"end_turn\", \"stop_sequence\": null, \"usage\": {\"input_tokens\": 12, \"output_tokens\": 42}}, \"type\": \"ai\", \"id\": \"run-f2807f1f-9e42-4f38-a137-056980bf3fb7-0\", \"usage_metadata\": {\"input_tokens\": 12, \"output_tokens\": 42, \"total_tokens\": 54}, \"tool_calls\": [], \"invalid_tool_calls\": []}}, {\"lc\": 1, \"type\": \"constructor\", \"id\": [\"langchain\", \"schema\", \"messages\", \"HumanMessage\"], \"kwargs\": {\"content\": \"what\\'s my name?\", \"type\": \"human\", \"id\": \"47060bc4-3d2e-4a93-b936-11fb6945a3d3\"}}, {\"lc\": 1, \"type\": \"constructor\", \"id\": [\"langchain\", \"schema\", \"messages\", \"AIMessage\"], \"kwargs\": {\"content\": \"Your name is Lance, as you introduced yourself at the beginning of our conversation.\", \"response_metadata\": {\"id\": \"msg_01UoPuipM62SDxFiMvkprFyt\", \"model\": \"claude-3-5-sonnet-20240620\", \"stop_reason\": \"end_turn\", \"stop_sequence\": null, \"usage\": {\"input_tokens\": 62, \"output_tokens\": 19}}, \"type\": \"ai\", \"id\": \"run-277861df-84b6-40f7-b63d-f8321db48621-0\", \"usage_metadata\": {\"input_tokens\": 62, \"output_tokens\": 19, \"total_tokens\": 81}, \"tool_calls\": [], \"invalid_tool_calls\": []}}, {\"lc\": 1, \"type\": \"constructor\", \"id\": [\"langchain\", \"schema\", \"messages\", \"HumanMessage\"], \"kwargs\": {\"content\": \"i like the 49ers!\", \"type\": \"human\", \"id\": \"b58aa3d9-3390-4a79-b014-9e4fe14d5421\"}}, {\"lc\": 1, \"type\": \"constructor\", \"id\": [\"langchain\", \"schema\", \"messages\", \"AIMessage\"], \"kwargs\": {\"content\": \"That\\'s great, Lance! The San Francisco 49ers are a popular NFL team with a rich history. They\\'ve won five Super Bowl championships and have had many legendary players like Joe Montana, Jerry Rice, and Steve Young. \\\\n\\\\nIs there anything specific about the 49ers you\\'d like to discuss? Maybe their current roster, recent performance, or some of their historical achievements? Or do you have a favorite player or memorable game you\\'d like to talk about?\", \"response_metadata\": {\"id\": \"msg_011pmkR6H9JefrzcNzz1Kr8K\", \"model\": \"claude-3-5-sonnet-20240620\", \"stop_reason\": \"end_turn\", \"stop_sequence\": null, \"usage\": {\"input_tokens\": 91, \"output_tokens\": 98}}, \"type\": \"ai\", \"id\": \"run-bcc55c7d-4c00-4f67-a828-5ac1ad56cecd-0\", \"usage_metadata\": {\"input_tokens\": 91, \"output_tokens\": 98, \"total_tokens\": 189}, \"tool_calls\": [], \"invalid_tool_calls\": []}}], \"conversation\": \"conversation\"}, \"channel_versions\": {\"__start__\": \"00000000000000000000000000000008.\", \"messages\": \"00000000000000000000000000000009.47c0291b487b03ed1615405bcc23d807\", \"start:conversation\": \"00000000000000000000000000000009.\", \"conversation\": \"00000000000000000000000000000009.c1a9456cbcb093548c8af8548661d954\"}, \"versions_seen\": {\"__input__\": {}, \"__start__\": {\"__start__\": \"00000000000000000000000000000007.36d4d2562fc3b5592c87c1e8386709ef\"}, \"conversation\": {\"start:conversation\": \"00000000000000000000000000000008.d6f25946c3108fc12f27abbcf9b4cedc\"}}, \"pending_sends\": [], \"current_tasks\": {}}',\n",
       "  b'{\"source\": \"loop\", \"writes\": {\"conversation\": {\"messages\": {\"lc\": 1, \"type\": \"constructor\", \"id\": [\"langchain\", \"schema\", \"messages\", \"AIMessage\"], \"kwargs\": {\"content\": \"That\\'s great, Lance! The San Francisco 49ers are a popular NFL team with a rich history. They\\'ve won five Super Bowl championships and have had many legendary players like Joe Montana, Jerry Rice, and Steve Young. \\\\n\\\\nIs there anything specific about the 49ers you\\'d like to discuss? Maybe their current roster, recent performance, or some of their historical achievements? Or do you have a favorite player or memorable game you\\'d like to talk about?\", \"response_metadata\": {\"id\": \"msg_011pmkR6H9JefrzcNzz1Kr8K\", \"model\": \"claude-3-5-sonnet-20240620\", \"stop_reason\": \"end_turn\", \"stop_sequence\": null, \"usage\": {\"input_tokens\": 91, \"output_tokens\": 98}}, \"type\": \"ai\", \"id\": \"run-bcc55c7d-4c00-4f67-a828-5ac1ad56cecd-0\", \"usage_metadata\": {\"input_tokens\": 91, \"output_tokens\": 98, \"total_tokens\": 189}, \"tool_calls\": [], \"invalid_tool_calls\": []}}}}, \"step\": 7}'),\n",
       " ('1',\n",
       "  '',\n",
       "  '1ef64b22-e2c1-64a2-8008-fa0b43d39f02',\n",
       "  '1ef64b22-5ebe-6fce-8007-1bbc55cee878',\n",
       "  'json',\n",
       "  b'{\"v\": 1, \"ts\": \"2024-08-27T20:23:11.337166+00:00\", \"id\": \"1ef64b22-e2c1-64a2-8008-fa0b43d39f02\", \"channel_values\": {\"messages\": [{\"lc\": 1, \"type\": \"constructor\", \"id\": [\"langchain\", \"schema\", \"messages\", \"HumanMessage\"], \"kwargs\": {\"content\": \"hi! I\\'m Lance\", \"type\": \"human\", \"id\": \"20dcd0d2-29e3-4bd0-a83e-74485a28e3e0\"}}, {\"lc\": 1, \"type\": \"constructor\", \"id\": [\"langchain\", \"schema\", \"messages\", \"AIMessage\"], \"kwargs\": {\"content\": \"Hello Lance! It\\'s nice to meet you. I\\'m an AI assistant. How can I help you today? Is there anything specific you\\'d like to chat about or any questions you have?\", \"response_metadata\": {\"id\": \"msg_01B8rZ3xtSFMAjbCkjmkekZP\", \"model\": \"claude-3-5-sonnet-20240620\", \"stop_reason\": \"end_turn\", \"stop_sequence\": null, \"usage\": {\"input_tokens\": 12, \"output_tokens\": 42}}, \"type\": \"ai\", \"id\": \"run-f2807f1f-9e42-4f38-a137-056980bf3fb7-0\", \"usage_metadata\": {\"input_tokens\": 12, \"output_tokens\": 42, \"total_tokens\": 54}, \"tool_calls\": [], \"invalid_tool_calls\": []}}, {\"lc\": 1, \"type\": \"constructor\", \"id\": [\"langchain\", \"schema\", \"messages\", \"HumanMessage\"], \"kwargs\": {\"content\": \"what\\'s my name?\", \"type\": \"human\", \"id\": \"47060bc4-3d2e-4a93-b936-11fb6945a3d3\"}}, {\"lc\": 1, \"type\": \"constructor\", \"id\": [\"langchain\", \"schema\", \"messages\", \"AIMessage\"], \"kwargs\": {\"content\": \"Your name is Lance, as you introduced yourself at the beginning of our conversation.\", \"response_metadata\": {\"id\": \"msg_01UoPuipM62SDxFiMvkprFyt\", \"model\": \"claude-3-5-sonnet-20240620\", \"stop_reason\": \"end_turn\", \"stop_sequence\": null, \"usage\": {\"input_tokens\": 62, \"output_tokens\": 19}}, \"type\": \"ai\", \"id\": \"run-277861df-84b6-40f7-b63d-f8321db48621-0\", \"usage_metadata\": {\"input_tokens\": 62, \"output_tokens\": 19, \"total_tokens\": 81}, \"tool_calls\": [], \"invalid_tool_calls\": []}}, {\"lc\": 1, \"type\": \"constructor\", \"id\": [\"langchain\", \"schema\", \"messages\", \"HumanMessage\"], \"kwargs\": {\"content\": \"i like the 49ers!\", \"type\": \"human\", \"id\": \"b58aa3d9-3390-4a79-b014-9e4fe14d5421\"}}, {\"lc\": 1, \"type\": \"constructor\", \"id\": [\"langchain\", \"schema\", \"messages\", \"AIMessage\"], \"kwargs\": {\"content\": \"That\\'s great, Lance! The San Francisco 49ers are a popular NFL team with a rich history. They\\'ve won five Super Bowl championships and have had many legendary players like Joe Montana, Jerry Rice, and Steve Young. \\\\n\\\\nIs there anything specific about the 49ers you\\'d like to discuss? Maybe their current roster, recent performance, or some of their historical achievements? Or do you have a favorite player or memorable game you\\'d like to talk about?\", \"response_metadata\": {\"id\": \"msg_011pmkR6H9JefrzcNzz1Kr8K\", \"model\": \"claude-3-5-sonnet-20240620\", \"stop_reason\": \"end_turn\", \"stop_sequence\": null, \"usage\": {\"input_tokens\": 91, \"output_tokens\": 98}}, \"type\": \"ai\", \"id\": \"run-bcc55c7d-4c00-4f67-a828-5ac1ad56cecd-0\", \"usage_metadata\": {\"input_tokens\": 91, \"output_tokens\": 98, \"total_tokens\": 189}, \"tool_calls\": [], \"invalid_tool_calls\": []}}], \"__start__\": {\"messages\": [{\"lc\": 1, \"type\": \"constructor\", \"id\": [\"langchain\", \"schema\", \"messages\", \"HumanMessage\"], \"kwargs\": {\"content\": \"hi! I\\'m Lance\", \"type\": \"human\"}}]}}, \"channel_versions\": {\"__start__\": \"00000000000000000000000000000010.761a8c54329ca020d4813f3f8164401b\", \"messages\": \"00000000000000000000000000000009.47c0291b487b03ed1615405bcc23d807\", \"start:conversation\": \"00000000000000000000000000000009.\", \"conversation\": \"00000000000000000000000000000010.\"}, \"versions_seen\": {\"__input__\": {}, \"__start__\": {\"__start__\": \"00000000000000000000000000000007.36d4d2562fc3b5592c87c1e8386709ef\"}, \"conversation\": {\"start:conversation\": \"00000000000000000000000000000008.d6f25946c3108fc12f27abbcf9b4cedc\"}}, \"pending_sends\": [], \"current_tasks\": {}}',\n",
       "  b'{\"source\": \"input\", \"writes\": {\"messages\": [{\"lc\": 1, \"type\": \"constructor\", \"id\": [\"langchain\", \"schema\", \"messages\", \"HumanMessage\"], \"kwargs\": {\"content\": \"hi! I\\'m Lance\", \"type\": \"human\"}}]}, \"step\": 8}'),\n",
       " ('1',\n",
       "  '',\n",
       "  '1ef64b22-e2c6-6f10-8009-be75168e63df',\n",
       "  '1ef64b22-e2c1-64a2-8008-fa0b43d39f02',\n",
       "  'json',\n",
       "  b'{\"v\": 1, \"ts\": \"2024-08-27T20:23:11.339483+00:00\", \"id\": \"1ef64b22-e2c6-6f10-8009-be75168e63df\", \"channel_values\": {\"messages\": [{\"lc\": 1, \"type\": \"constructor\", \"id\": [\"langchain\", \"schema\", \"messages\", \"HumanMessage\"], \"kwargs\": {\"content\": \"hi! I\\'m Lance\", \"type\": \"human\", \"id\": \"20dcd0d2-29e3-4bd0-a83e-74485a28e3e0\"}}, {\"lc\": 1, \"type\": \"constructor\", \"id\": [\"langchain\", \"schema\", \"messages\", \"AIMessage\"], \"kwargs\": {\"content\": \"Hello Lance! It\\'s nice to meet you. I\\'m an AI assistant. How can I help you today? Is there anything specific you\\'d like to chat about or any questions you have?\", \"response_metadata\": {\"id\": \"msg_01B8rZ3xtSFMAjbCkjmkekZP\", \"model\": \"claude-3-5-sonnet-20240620\", \"stop_reason\": \"end_turn\", \"stop_sequence\": null, \"usage\": {\"input_tokens\": 12, \"output_tokens\": 42}}, \"type\": \"ai\", \"id\": \"run-f2807f1f-9e42-4f38-a137-056980bf3fb7-0\", \"usage_metadata\": {\"input_tokens\": 12, \"output_tokens\": 42, \"total_tokens\": 54}, \"tool_calls\": [], \"invalid_tool_calls\": []}}, {\"lc\": 1, \"type\": \"constructor\", \"id\": [\"langchain\", \"schema\", \"messages\", \"HumanMessage\"], \"kwargs\": {\"content\": \"what\\'s my name?\", \"type\": \"human\", \"id\": \"47060bc4-3d2e-4a93-b936-11fb6945a3d3\"}}, {\"lc\": 1, \"type\": \"constructor\", \"id\": [\"langchain\", \"schema\", \"messages\", \"AIMessage\"], \"kwargs\": {\"content\": \"Your name is Lance, as you introduced yourself at the beginning of our conversation.\", \"response_metadata\": {\"id\": \"msg_01UoPuipM62SDxFiMvkprFyt\", \"model\": \"claude-3-5-sonnet-20240620\", \"stop_reason\": \"end_turn\", \"stop_sequence\": null, \"usage\": {\"input_tokens\": 62, \"output_tokens\": 19}}, \"type\": \"ai\", \"id\": \"run-277861df-84b6-40f7-b63d-f8321db48621-0\", \"usage_metadata\": {\"input_tokens\": 62, \"output_tokens\": 19, \"total_tokens\": 81}, \"tool_calls\": [], \"invalid_tool_calls\": []}}, {\"lc\": 1, \"type\": \"constructor\", \"id\": [\"langchain\", \"schema\", \"messages\", \"HumanMessage\"], \"kwargs\": {\"content\": \"i like the 49ers!\", \"type\": \"human\", \"id\": \"b58aa3d9-3390-4a79-b014-9e4fe14d5421\"}}, {\"lc\": 1, \"type\": \"constructor\", \"id\": [\"langchain\", \"schema\", \"messages\", \"AIMessage\"], \"kwargs\": {\"content\": \"That\\'s great, Lance! The San Francisco 49ers are a popular NFL team with a rich history. They\\'ve won five Super Bowl championships and have had many legendary players like Joe Montana, Jerry Rice, and Steve Young. \\\\n\\\\nIs there anything specific about the 49ers you\\'d like to discuss? Maybe their current roster, recent performance, or some of their historical achievements? Or do you have a favorite player or memorable game you\\'d like to talk about?\", \"response_metadata\": {\"id\": \"msg_011pmkR6H9JefrzcNzz1Kr8K\", \"model\": \"claude-3-5-sonnet-20240620\", \"stop_reason\": \"end_turn\", \"stop_sequence\": null, \"usage\": {\"input_tokens\": 91, \"output_tokens\": 98}}, \"type\": \"ai\", \"id\": \"run-bcc55c7d-4c00-4f67-a828-5ac1ad56cecd-0\", \"usage_metadata\": {\"input_tokens\": 91, \"output_tokens\": 98, \"total_tokens\": 189}, \"tool_calls\": [], \"invalid_tool_calls\": []}}, {\"lc\": 1, \"type\": \"constructor\", \"id\": [\"langchain\", \"schema\", \"messages\", \"HumanMessage\"], \"kwargs\": {\"content\": \"hi! I\\'m Lance\", \"type\": \"human\", \"id\": \"086e80ce-8bd0-4dee-b13c-f47160d6755f\"}}], \"start:conversation\": \"__start__\"}, \"channel_versions\": {\"__start__\": \"00000000000000000000000000000011.\", \"messages\": \"00000000000000000000000000000011.5b2702970a592763006162fc5b80dc1d\", \"start:conversation\": \"00000000000000000000000000000011.d6f25946c3108fc12f27abbcf9b4cedc\", \"conversation\": \"00000000000000000000000000000010.\"}, \"versions_seen\": {\"__input__\": {}, \"__start__\": {\"__start__\": \"00000000000000000000000000000010.761a8c54329ca020d4813f3f8164401b\"}, \"conversation\": {\"start:conversation\": \"00000000000000000000000000000008.d6f25946c3108fc12f27abbcf9b4cedc\"}}, \"pending_sends\": [], \"current_tasks\": {}}',\n",
       "  b'{\"source\": \"loop\", \"writes\": null, \"step\": 9}'),\n",
       " ('1',\n",
       "  '',\n",
       "  '1ef64b22-f6a3-6998-800a-7e7f2c17a8f8',\n",
       "  '1ef64b22-e2c6-6f10-8009-be75168e63df',\n",
       "  'json',\n",
       "  b'{\"v\": 1, \"ts\": \"2024-08-27T20:23:13.422162+00:00\", \"id\": \"1ef64b22-f6a3-6998-800a-7e7f2c17a8f8\", \"channel_values\": {\"messages\": [{\"lc\": 1, \"type\": \"constructor\", \"id\": [\"langchain\", \"schema\", \"messages\", \"HumanMessage\"], \"kwargs\": {\"content\": \"hi! I\\'m Lance\", \"type\": \"human\", \"id\": \"20dcd0d2-29e3-4bd0-a83e-74485a28e3e0\"}}, {\"lc\": 1, \"type\": \"constructor\", \"id\": [\"langchain\", \"schema\", \"messages\", \"AIMessage\"], \"kwargs\": {\"content\": \"Hello Lance! It\\'s nice to meet you. I\\'m an AI assistant. How can I help you today? Is there anything specific you\\'d like to chat about or any questions you have?\", \"response_metadata\": {\"id\": \"msg_01B8rZ3xtSFMAjbCkjmkekZP\", \"model\": \"claude-3-5-sonnet-20240620\", \"stop_reason\": \"end_turn\", \"stop_sequence\": null, \"usage\": {\"input_tokens\": 12, \"output_tokens\": 42}}, \"type\": \"ai\", \"id\": \"run-f2807f1f-9e42-4f38-a137-056980bf3fb7-0\", \"usage_metadata\": {\"input_tokens\": 12, \"output_tokens\": 42, \"total_tokens\": 54}, \"tool_calls\": [], \"invalid_tool_calls\": []}}, {\"lc\": 1, \"type\": \"constructor\", \"id\": [\"langchain\", \"schema\", \"messages\", \"HumanMessage\"], \"kwargs\": {\"content\": \"what\\'s my name?\", \"type\": \"human\", \"id\": \"47060bc4-3d2e-4a93-b936-11fb6945a3d3\"}}, {\"lc\": 1, \"type\": \"constructor\", \"id\": [\"langchain\", \"schema\", \"messages\", \"AIMessage\"], \"kwargs\": {\"content\": \"Your name is Lance, as you introduced yourself at the beginning of our conversation.\", \"response_metadata\": {\"id\": \"msg_01UoPuipM62SDxFiMvkprFyt\", \"model\": \"claude-3-5-sonnet-20240620\", \"stop_reason\": \"end_turn\", \"stop_sequence\": null, \"usage\": {\"input_tokens\": 62, \"output_tokens\": 19}}, \"type\": \"ai\", \"id\": \"run-277861df-84b6-40f7-b63d-f8321db48621-0\", \"usage_metadata\": {\"input_tokens\": 62, \"output_tokens\": 19, \"total_tokens\": 81}, \"tool_calls\": [], \"invalid_tool_calls\": []}}, {\"lc\": 1, \"type\": \"constructor\", \"id\": [\"langchain\", \"schema\", \"messages\", \"HumanMessage\"], \"kwargs\": {\"content\": \"i like the 49ers!\", \"type\": \"human\", \"id\": \"b58aa3d9-3390-4a79-b014-9e4fe14d5421\"}}, {\"lc\": 1, \"type\": \"constructor\", \"id\": [\"langchain\", \"schema\", \"messages\", \"AIMessage\"], \"kwargs\": {\"content\": \"That\\'s great, Lance! The San Francisco 49ers are a popular NFL team with a rich history. They\\'ve won five Super Bowl championships and have had many legendary players like Joe Montana, Jerry Rice, and Steve Young. \\\\n\\\\nIs there anything specific about the 49ers you\\'d like to discuss? Maybe their current roster, recent performance, or some of their historical achievements? Or do you have a favorite player or memorable game you\\'d like to talk about?\", \"response_metadata\": {\"id\": \"msg_011pmkR6H9JefrzcNzz1Kr8K\", \"model\": \"claude-3-5-sonnet-20240620\", \"stop_reason\": \"end_turn\", \"stop_sequence\": null, \"usage\": {\"input_tokens\": 91, \"output_tokens\": 98}}, \"type\": \"ai\", \"id\": \"run-bcc55c7d-4c00-4f67-a828-5ac1ad56cecd-0\", \"usage_metadata\": {\"input_tokens\": 91, \"output_tokens\": 98, \"total_tokens\": 189}, \"tool_calls\": [], \"invalid_tool_calls\": []}}, {\"lc\": 1, \"type\": \"constructor\", \"id\": [\"langchain\", \"schema\", \"messages\", \"HumanMessage\"], \"kwargs\": {\"content\": \"hi! I\\'m Lance\", \"type\": \"human\", \"id\": \"086e80ce-8bd0-4dee-b13c-f47160d6755f\"}}, {\"lc\": 1, \"type\": \"constructor\", \"id\": [\"langchain\", \"schema\", \"messages\", \"AIMessage\"], \"kwargs\": {\"content\": \"Hello Lance! You\\'ve already introduced yourself, but it\\'s nice to greet you again. Is there something specific you\\'d like to talk about? Perhaps you\\'d like to continue our conversation about the 49ers, or is there another topic you\\'re interested in discussing?\", \"response_metadata\": {\"id\": \"msg_01AkDF6AH7LMp2YDDD9jQkEC\", \"model\": \"claude-3-5-sonnet-20240620\", \"stop_reason\": \"end_turn\", \"stop_sequence\": null, \"usage\": {\"input_tokens\": 197, \"output_tokens\": 58}}, \"type\": \"ai\", \"id\": \"run-7f8af5e1-5248-4ccd-ab46-87580422f0d6-0\", \"usage_metadata\": {\"input_tokens\": 197, \"output_tokens\": 58, \"total_tokens\": 255}, \"tool_calls\": [], \"invalid_tool_calls\": []}}], \"conversation\": \"conversation\", \"branch:conversation:should_continue:summarize_conversation\": \"conversation\"}, \"channel_versions\": {\"__start__\": \"00000000000000000000000000000011.\", \"messages\": \"00000000000000000000000000000012.8ad7a9766a46f59af1605a86085a7055\", \"start:conversation\": \"00000000000000000000000000000012.\", \"conversation\": \"00000000000000000000000000000012.c1a9456cbcb093548c8af8548661d954\", \"branch:conversation:should_continue:summarize_conversation\": \"00000000000000000000000000000012.c1a9456cbcb093548c8af8548661d954\"}, \"versions_seen\": {\"__input__\": {}, \"__start__\": {\"__start__\": \"00000000000000000000000000000010.761a8c54329ca020d4813f3f8164401b\"}, \"conversation\": {\"start:conversation\": \"00000000000000000000000000000011.d6f25946c3108fc12f27abbcf9b4cedc\"}}, \"pending_sends\": [], \"current_tasks\": {}}',\n",
       "  b'{\"source\": \"loop\", \"writes\": {\"conversation\": {\"messages\": {\"lc\": 1, \"type\": \"constructor\", \"id\": [\"langchain\", \"schema\", \"messages\", \"AIMessage\"], \"kwargs\": {\"content\": \"Hello Lance! You\\'ve already introduced yourself, but it\\'s nice to greet you again. Is there something specific you\\'d like to talk about? Perhaps you\\'d like to continue our conversation about the 49ers, or is there another topic you\\'re interested in discussing?\", \"response_metadata\": {\"id\": \"msg_01AkDF6AH7LMp2YDDD9jQkEC\", \"model\": \"claude-3-5-sonnet-20240620\", \"stop_reason\": \"end_turn\", \"stop_sequence\": null, \"usage\": {\"input_tokens\": 197, \"output_tokens\": 58}}, \"type\": \"ai\", \"id\": \"run-7f8af5e1-5248-4ccd-ab46-87580422f0d6-0\", \"usage_metadata\": {\"input_tokens\": 197, \"output_tokens\": 58, \"total_tokens\": 255}, \"tool_calls\": [], \"invalid_tool_calls\": []}}}}, \"step\": 10}'),\n",
       " ('1',\n",
       "  '',\n",
       "  '1ef64b23-0ed1-6cea-800b-6a92b6bb366f',\n",
       "  '1ef64b22-f6a3-6998-800a-7e7f2c17a8f8',\n",
       "  'json',\n",
       "  b'{\"v\": 1, \"ts\": \"2024-08-27T20:23:15.957674+00:00\", \"id\": \"1ef64b23-0ed1-6cea-800b-6a92b6bb366f\", \"channel_values\": {\"messages\": [{\"lc\": 1, \"type\": \"constructor\", \"id\": [\"langchain\", \"schema\", \"messages\", \"HumanMessage\"], \"kwargs\": {\"content\": \"hi! I\\'m Lance\", \"type\": \"human\", \"id\": \"086e80ce-8bd0-4dee-b13c-f47160d6755f\"}}, {\"lc\": 1, \"type\": \"constructor\", \"id\": [\"langchain\", \"schema\", \"messages\", \"AIMessage\"], \"kwargs\": {\"content\": \"Hello Lance! You\\'ve already introduced yourself, but it\\'s nice to greet you again. Is there something specific you\\'d like to talk about? Perhaps you\\'d like to continue our conversation about the 49ers, or is there another topic you\\'re interested in discussing?\", \"response_metadata\": {\"id\": \"msg_01AkDF6AH7LMp2YDDD9jQkEC\", \"model\": \"claude-3-5-sonnet-20240620\", \"stop_reason\": \"end_turn\", \"stop_sequence\": null, \"usage\": {\"input_tokens\": 197, \"output_tokens\": 58}}, \"type\": \"ai\", \"id\": \"run-7f8af5e1-5248-4ccd-ab46-87580422f0d6-0\", \"usage_metadata\": {\"input_tokens\": 197, \"output_tokens\": 58, \"total_tokens\": 255}, \"tool_calls\": [], \"invalid_tool_calls\": []}}], \"summary\": \"Here\\'s a summary of the conversation:\\\\n\\\\nLance introduced himself twice during the conversation. He expressed his fondness for the San Francisco 49ers football team. The AI assistant acknowledged Lance\\'s name each time and showed willingness to discuss the 49ers, offering to talk about various aspects of the team such as their history, current roster, or memorable games. The conversation was brief and somewhat repetitive, with Lance reintroducing himself at the end without directly responding to the AI\\'s questions or prompts about the 49ers.\", \"summarize_conversation\": \"summarize_conversation\"}, \"channel_versions\": {\"__start__\": \"00000000000000000000000000000011.\", \"messages\": \"00000000000000000000000000000013.39cb3e877d171649eab448d56c74b32b\", \"start:conversation\": \"00000000000000000000000000000012.\", \"conversation\": \"00000000000000000000000000000013.\", \"branch:conversation:should_continue:summarize_conversation\": \"00000000000000000000000000000013.\", \"summarize_conversation\": \"00000000000000000000000000000013.bf14fea9c655b82498fbbad5588a41c9\", \"summary\": \"00000000000000000000000000000013.7230637d5911e552692a2ec52c8b0433\"}, \"versions_seen\": {\"__input__\": {}, \"__start__\": {\"__start__\": \"00000000000000000000000000000010.761a8c54329ca020d4813f3f8164401b\"}, \"conversation\": {\"start:conversation\": \"00000000000000000000000000000011.d6f25946c3108fc12f27abbcf9b4cedc\"}, \"summarize_conversation\": {\"branch:conversation:should_continue:summarize_conversation\": \"00000000000000000000000000000012.c1a9456cbcb093548c8af8548661d954\"}}, \"pending_sends\": [], \"current_tasks\": {}}',\n",
       "  b'{\"source\": \"loop\", \"writes\": {\"summarize_conversation\": {\"messages\": [{\"lc\": 1, \"type\": \"constructor\", \"id\": [\"langchain\", \"schema\", \"messages\", \"RemoveMessage\"], \"kwargs\": {\"content\": \"\", \"type\": \"remove\", \"id\": \"20dcd0d2-29e3-4bd0-a83e-74485a28e3e0\"}}, {\"lc\": 1, \"type\": \"constructor\", \"id\": [\"langchain\", \"schema\", \"messages\", \"RemoveMessage\"], \"kwargs\": {\"content\": \"\", \"type\": \"remove\", \"id\": \"run-f2807f1f-9e42-4f38-a137-056980bf3fb7-0\"}}, {\"lc\": 1, \"type\": \"constructor\", \"id\": [\"langchain\", \"schema\", \"messages\", \"RemoveMessage\"], \"kwargs\": {\"content\": \"\", \"type\": \"remove\", \"id\": \"47060bc4-3d2e-4a93-b936-11fb6945a3d3\"}}, {\"lc\": 1, \"type\": \"constructor\", \"id\": [\"langchain\", \"schema\", \"messages\", \"RemoveMessage\"], \"kwargs\": {\"content\": \"\", \"type\": \"remove\", \"id\": \"run-277861df-84b6-40f7-b63d-f8321db48621-0\"}}, {\"lc\": 1, \"type\": \"constructor\", \"id\": [\"langchain\", \"schema\", \"messages\", \"RemoveMessage\"], \"kwargs\": {\"content\": \"\", \"type\": \"remove\", \"id\": \"b58aa3d9-3390-4a79-b014-9e4fe14d5421\"}}, {\"lc\": 1, \"type\": \"constructor\", \"id\": [\"langchain\", \"schema\", \"messages\", \"RemoveMessage\"], \"kwargs\": {\"content\": \"\", \"type\": \"remove\", \"id\": \"run-bcc55c7d-4c00-4f67-a828-5ac1ad56cecd-0\"}}], \"summary\": \"Here\\'s a summary of the conversation:\\\\n\\\\nLance introduced himself twice during the conversation. He expressed his fondness for the San Francisco 49ers football team. The AI assistant acknowledged Lance\\'s name each time and showed willingness to discuss the 49ers, offering to talk about various aspects of the team such as their history, current roster, or memorable games. The conversation was brief and somewhat repetitive, with Lance reintroducing himself at the end without directly responding to the AI\\'s questions or prompts about the 49ers.\"}}, \"step\": 11}'),\n",
       " ('1',\n",
       "  '',\n",
       "  '1ef64b23-0ed8-61d0-800c-1f9c8dac8a81',\n",
       "  '1ef64b23-0ed1-6cea-800b-6a92b6bb366f',\n",
       "  'json',\n",
       "  b'{\"v\": 1, \"ts\": \"2024-08-27T20:23:15.960258+00:00\", \"id\": \"1ef64b23-0ed8-61d0-800c-1f9c8dac8a81\", \"channel_values\": {\"messages\": [{\"lc\": 1, \"type\": \"constructor\", \"id\": [\"langchain\", \"schema\", \"messages\", \"HumanMessage\"], \"kwargs\": {\"content\": \"hi! I\\'m Lance\", \"type\": \"human\", \"id\": \"086e80ce-8bd0-4dee-b13c-f47160d6755f\"}}, {\"lc\": 1, \"type\": \"constructor\", \"id\": [\"langchain\", \"schema\", \"messages\", \"AIMessage\"], \"kwargs\": {\"content\": \"Hello Lance! You\\'ve already introduced yourself, but it\\'s nice to greet you again. Is there something specific you\\'d like to talk about? Perhaps you\\'d like to continue our conversation about the 49ers, or is there another topic you\\'re interested in discussing?\", \"response_metadata\": {\"id\": \"msg_01AkDF6AH7LMp2YDDD9jQkEC\", \"model\": \"claude-3-5-sonnet-20240620\", \"stop_reason\": \"end_turn\", \"stop_sequence\": null, \"usage\": {\"input_tokens\": 197, \"output_tokens\": 58}}, \"type\": \"ai\", \"id\": \"run-7f8af5e1-5248-4ccd-ab46-87580422f0d6-0\", \"usage_metadata\": {\"input_tokens\": 197, \"output_tokens\": 58, \"total_tokens\": 255}, \"tool_calls\": [], \"invalid_tool_calls\": []}}], \"summary\": \"Here\\'s a summary of the conversation:\\\\n\\\\nLance introduced himself twice during the conversation. He expressed his fondness for the San Francisco 49ers football team. The AI assistant acknowledged Lance\\'s name each time and showed willingness to discuss the 49ers, offering to talk about various aspects of the team such as their history, current roster, or memorable games. The conversation was brief and somewhat repetitive, with Lance reintroducing himself at the end without directly responding to the AI\\'s questions or prompts about the 49ers.\", \"__start__\": {\"messages\": [{\"lc\": 1, \"type\": \"constructor\", \"id\": [\"langchain\", \"schema\", \"messages\", \"HumanMessage\"], \"kwargs\": {\"content\": \"what\\'s my name?\", \"type\": \"human\"}}]}}, \"channel_versions\": {\"__start__\": \"00000000000000000000000000000014.b0a325fdc12ba7b8fa1dda770409296e\", \"messages\": \"00000000000000000000000000000013.39cb3e877d171649eab448d56c74b32b\", \"start:conversation\": \"00000000000000000000000000000012.\", \"conversation\": \"00000000000000000000000000000013.\", \"branch:conversation:should_continue:summarize_conversation\": \"00000000000000000000000000000013.\", \"summarize_conversation\": \"00000000000000000000000000000014.\", \"summary\": \"00000000000000000000000000000013.7230637d5911e552692a2ec52c8b0433\"}, \"versions_seen\": {\"__input__\": {}, \"__start__\": {\"__start__\": \"00000000000000000000000000000010.761a8c54329ca020d4813f3f8164401b\"}, \"conversation\": {\"start:conversation\": \"00000000000000000000000000000011.d6f25946c3108fc12f27abbcf9b4cedc\"}, \"summarize_conversation\": {\"branch:conversation:should_continue:summarize_conversation\": \"00000000000000000000000000000012.c1a9456cbcb093548c8af8548661d954\"}}, \"pending_sends\": [], \"current_tasks\": {}}',\n",
       "  b'{\"source\": \"input\", \"writes\": {\"messages\": [{\"lc\": 1, \"type\": \"constructor\", \"id\": [\"langchain\", \"schema\", \"messages\", \"HumanMessage\"], \"kwargs\": {\"content\": \"what\\'s my name?\", \"type\": \"human\"}}]}, \"step\": 12}'),\n",
       " ('1',\n",
       "  '',\n",
       "  '1ef64b23-0eda-6570-800d-6ccdb9a388b7',\n",
       "  '1ef64b23-0ed8-61d0-800c-1f9c8dac8a81',\n",
       "  'json',\n",
       "  b'{\"v\": 1, \"ts\": \"2024-08-27T20:23:15.961170+00:00\", \"id\": \"1ef64b23-0eda-6570-800d-6ccdb9a388b7\", \"channel_values\": {\"messages\": [{\"lc\": 1, \"type\": \"constructor\", \"id\": [\"langchain\", \"schema\", \"messages\", \"HumanMessage\"], \"kwargs\": {\"content\": \"hi! I\\'m Lance\", \"type\": \"human\", \"id\": \"086e80ce-8bd0-4dee-b13c-f47160d6755f\"}}, {\"lc\": 1, \"type\": \"constructor\", \"id\": [\"langchain\", \"schema\", \"messages\", \"AIMessage\"], \"kwargs\": {\"content\": \"Hello Lance! You\\'ve already introduced yourself, but it\\'s nice to greet you again. Is there something specific you\\'d like to talk about? Perhaps you\\'d like to continue our conversation about the 49ers, or is there another topic you\\'re interested in discussing?\", \"response_metadata\": {\"id\": \"msg_01AkDF6AH7LMp2YDDD9jQkEC\", \"model\": \"claude-3-5-sonnet-20240620\", \"stop_reason\": \"end_turn\", \"stop_sequence\": null, \"usage\": {\"input_tokens\": 197, \"output_tokens\": 58}}, \"type\": \"ai\", \"id\": \"run-7f8af5e1-5248-4ccd-ab46-87580422f0d6-0\", \"usage_metadata\": {\"input_tokens\": 197, \"output_tokens\": 58, \"total_tokens\": 255}, \"tool_calls\": [], \"invalid_tool_calls\": []}}, {\"lc\": 1, \"type\": \"constructor\", \"id\": [\"langchain\", \"schema\", \"messages\", \"HumanMessage\"], \"kwargs\": {\"content\": \"what\\'s my name?\", \"type\": \"human\", \"id\": \"e33f42ee-cdb0-45ec-b100-54dcd4c82e71\"}}], \"summary\": \"Here\\'s a summary of the conversation:\\\\n\\\\nLance introduced himself twice during the conversation. He expressed his fondness for the San Francisco 49ers football team. The AI assistant acknowledged Lance\\'s name each time and showed willingness to discuss the 49ers, offering to talk about various aspects of the team such as their history, current roster, or memorable games. The conversation was brief and somewhat repetitive, with Lance reintroducing himself at the end without directly responding to the AI\\'s questions or prompts about the 49ers.\", \"start:conversation\": \"__start__\"}, \"channel_versions\": {\"__start__\": \"00000000000000000000000000000015.\", \"messages\": \"00000000000000000000000000000015.3287b879cdc312249fe993cc8a0bf5d5\", \"start:conversation\": \"00000000000000000000000000000015.d6f25946c3108fc12f27abbcf9b4cedc\", \"conversation\": \"00000000000000000000000000000013.\", \"branch:conversation:should_continue:summarize_conversation\": \"00000000000000000000000000000013.\", \"summarize_conversation\": \"00000000000000000000000000000014.\", \"summary\": \"00000000000000000000000000000013.7230637d5911e552692a2ec52c8b0433\"}, \"versions_seen\": {\"__input__\": {}, \"__start__\": {\"__start__\": \"00000000000000000000000000000014.b0a325fdc12ba7b8fa1dda770409296e\"}, \"conversation\": {\"start:conversation\": \"00000000000000000000000000000011.d6f25946c3108fc12f27abbcf9b4cedc\"}, \"summarize_conversation\": {\"branch:conversation:should_continue:summarize_conversation\": \"00000000000000000000000000000012.c1a9456cbcb093548c8af8548661d954\"}}, \"pending_sends\": [], \"current_tasks\": {}}',\n",
       "  b'{\"source\": \"loop\", \"writes\": null, \"step\": 13}'),\n",
       " ('1',\n",
       "  '',\n",
       "  '1ef64b23-1a39-606a-800e-a144a4fa1418',\n",
       "  '1ef64b23-0eda-6570-800d-6ccdb9a388b7',\n",
       "  'json',\n",
       "  b'{\"v\": 1, \"ts\": \"2024-08-27T20:23:17.153384+00:00\", \"id\": \"1ef64b23-1a39-606a-800e-a144a4fa1418\", \"channel_values\": {\"messages\": [{\"lc\": 1, \"type\": \"constructor\", \"id\": [\"langchain\", \"schema\", \"messages\", \"HumanMessage\"], \"kwargs\": {\"content\": \"hi! I\\'m Lance\", \"type\": \"human\", \"id\": \"086e80ce-8bd0-4dee-b13c-f47160d6755f\"}}, {\"lc\": 1, \"type\": \"constructor\", \"id\": [\"langchain\", \"schema\", \"messages\", \"AIMessage\"], \"kwargs\": {\"content\": \"Hello Lance! You\\'ve already introduced yourself, but it\\'s nice to greet you again. Is there something specific you\\'d like to talk about? Perhaps you\\'d like to continue our conversation about the 49ers, or is there another topic you\\'re interested in discussing?\", \"response_metadata\": {\"id\": \"msg_01AkDF6AH7LMp2YDDD9jQkEC\", \"model\": \"claude-3-5-sonnet-20240620\", \"stop_reason\": \"end_turn\", \"stop_sequence\": null, \"usage\": {\"input_tokens\": 197, \"output_tokens\": 58}}, \"type\": \"ai\", \"id\": \"run-7f8af5e1-5248-4ccd-ab46-87580422f0d6-0\", \"usage_metadata\": {\"input_tokens\": 197, \"output_tokens\": 58, \"total_tokens\": 255}, \"tool_calls\": [], \"invalid_tool_calls\": []}}, {\"lc\": 1, \"type\": \"constructor\", \"id\": [\"langchain\", \"schema\", \"messages\", \"HumanMessage\"], \"kwargs\": {\"content\": \"what\\'s my name?\", \"type\": \"human\", \"id\": \"e33f42ee-cdb0-45ec-b100-54dcd4c82e71\"}}, {\"lc\": 1, \"type\": \"constructor\", \"id\": [\"langchain\", \"schema\", \"messages\", \"AIMessage\"], \"kwargs\": {\"content\": \"Your name is Lance. You\\'ve introduced yourself twice during our conversation.\", \"response_metadata\": {\"id\": \"msg_01LVJSCjRjmRd3QA2UMP6SXg\", \"model\": \"claude-3-5-sonnet-20240620\", \"stop_reason\": \"end_turn\", \"stop_sequence\": null, \"usage\": {\"input_tokens\": 193, \"output_tokens\": 17}}, \"type\": \"ai\", \"id\": \"run-4152603e-5c5f-4a26-be8c-2b2bab373e75-0\", \"usage_metadata\": {\"input_tokens\": 193, \"output_tokens\": 17, \"total_tokens\": 210}, \"tool_calls\": [], \"invalid_tool_calls\": []}}], \"summary\": \"Here\\'s a summary of the conversation:\\\\n\\\\nLance introduced himself twice during the conversation. He expressed his fondness for the San Francisco 49ers football team. The AI assistant acknowledged Lance\\'s name each time and showed willingness to discuss the 49ers, offering to talk about various aspects of the team such as their history, current roster, or memorable games. The conversation was brief and somewhat repetitive, with Lance reintroducing himself at the end without directly responding to the AI\\'s questions or prompts about the 49ers.\", \"conversation\": \"conversation\"}, \"channel_versions\": {\"__start__\": \"00000000000000000000000000000015.\", \"messages\": \"00000000000000000000000000000016.0401cc2e352df50378d9b5676dbab2b9\", \"start:conversation\": \"00000000000000000000000000000016.\", \"conversation\": \"00000000000000000000000000000016.c1a9456cbcb093548c8af8548661d954\", \"branch:conversation:should_continue:summarize_conversation\": \"00000000000000000000000000000013.\", \"summarize_conversation\": \"00000000000000000000000000000014.\", \"summary\": \"00000000000000000000000000000013.7230637d5911e552692a2ec52c8b0433\"}, \"versions_seen\": {\"__input__\": {}, \"__start__\": {\"__start__\": \"00000000000000000000000000000014.b0a325fdc12ba7b8fa1dda770409296e\"}, \"conversation\": {\"start:conversation\": \"00000000000000000000000000000015.d6f25946c3108fc12f27abbcf9b4cedc\"}, \"summarize_conversation\": {\"branch:conversation:should_continue:summarize_conversation\": \"00000000000000000000000000000012.c1a9456cbcb093548c8af8548661d954\"}}, \"pending_sends\": [], \"current_tasks\": {}}',\n",
       "  b'{\"source\": \"loop\", \"writes\": {\"conversation\": {\"messages\": {\"lc\": 1, \"type\": \"constructor\", \"id\": [\"langchain\", \"schema\", \"messages\", \"AIMessage\"], \"kwargs\": {\"content\": \"Your name is Lance. You\\'ve introduced yourself twice during our conversation.\", \"response_metadata\": {\"id\": \"msg_01LVJSCjRjmRd3QA2UMP6SXg\", \"model\": \"claude-3-5-sonnet-20240620\", \"stop_reason\": \"end_turn\", \"stop_sequence\": null, \"usage\": {\"input_tokens\": 193, \"output_tokens\": 17}}, \"type\": \"ai\", \"id\": \"run-4152603e-5c5f-4a26-be8c-2b2bab373e75-0\", \"usage_metadata\": {\"input_tokens\": 193, \"output_tokens\": 17, \"total_tokens\": 210}, \"tool_calls\": [], \"invalid_tool_calls\": []}}}}, \"step\": 14}'),\n",
       " ('1',\n",
       "  '',\n",
       "  '1ef64b23-1a44-619a-800f-66ae836caa2e',\n",
       "  '1ef64b23-1a39-606a-800e-a144a4fa1418',\n",
       "  'json',\n",
       "  b'{\"v\": 1, \"ts\": \"2024-08-27T20:23:17.157917+00:00\", \"id\": \"1ef64b23-1a44-619a-800f-66ae836caa2e\", \"channel_values\": {\"messages\": [{\"lc\": 1, \"type\": \"constructor\", \"id\": [\"langchain\", \"schema\", \"messages\", \"HumanMessage\"], \"kwargs\": {\"content\": \"hi! I\\'m Lance\", \"type\": \"human\", \"id\": \"086e80ce-8bd0-4dee-b13c-f47160d6755f\"}}, {\"lc\": 1, \"type\": \"constructor\", \"id\": [\"langchain\", \"schema\", \"messages\", \"AIMessage\"], \"kwargs\": {\"content\": \"Hello Lance! You\\'ve already introduced yourself, but it\\'s nice to greet you again. Is there something specific you\\'d like to talk about? Perhaps you\\'d like to continue our conversation about the 49ers, or is there another topic you\\'re interested in discussing?\", \"response_metadata\": {\"id\": \"msg_01AkDF6AH7LMp2YDDD9jQkEC\", \"model\": \"claude-3-5-sonnet-20240620\", \"stop_reason\": \"end_turn\", \"stop_sequence\": null, \"usage\": {\"input_tokens\": 197, \"output_tokens\": 58}}, \"type\": \"ai\", \"id\": \"run-7f8af5e1-5248-4ccd-ab46-87580422f0d6-0\", \"usage_metadata\": {\"input_tokens\": 197, \"output_tokens\": 58, \"total_tokens\": 255}, \"tool_calls\": [], \"invalid_tool_calls\": []}}, {\"lc\": 1, \"type\": \"constructor\", \"id\": [\"langchain\", \"schema\", \"messages\", \"HumanMessage\"], \"kwargs\": {\"content\": \"what\\'s my name?\", \"type\": \"human\", \"id\": \"e33f42ee-cdb0-45ec-b100-54dcd4c82e71\"}}, {\"lc\": 1, \"type\": \"constructor\", \"id\": [\"langchain\", \"schema\", \"messages\", \"AIMessage\"], \"kwargs\": {\"content\": \"Your name is Lance. You\\'ve introduced yourself twice during our conversation.\", \"response_metadata\": {\"id\": \"msg_01LVJSCjRjmRd3QA2UMP6SXg\", \"model\": \"claude-3-5-sonnet-20240620\", \"stop_reason\": \"end_turn\", \"stop_sequence\": null, \"usage\": {\"input_tokens\": 193, \"output_tokens\": 17}}, \"type\": \"ai\", \"id\": \"run-4152603e-5c5f-4a26-be8c-2b2bab373e75-0\", \"usage_metadata\": {\"input_tokens\": 193, \"output_tokens\": 17, \"total_tokens\": 210}, \"tool_calls\": [], \"invalid_tool_calls\": []}}], \"summary\": \"Here\\'s a summary of the conversation:\\\\n\\\\nLance introduced himself twice during the conversation. He expressed his fondness for the San Francisco 49ers football team. The AI assistant acknowledged Lance\\'s name each time and showed willingness to discuss the 49ers, offering to talk about various aspects of the team such as their history, current roster, or memorable games. The conversation was brief and somewhat repetitive, with Lance reintroducing himself at the end without directly responding to the AI\\'s questions or prompts about the 49ers.\", \"__start__\": {\"messages\": [{\"lc\": 1, \"type\": \"constructor\", \"id\": [\"langchain\", \"schema\", \"messages\", \"HumanMessage\"], \"kwargs\": {\"content\": \"i like the 49ers!\", \"type\": \"human\"}}]}}, \"channel_versions\": {\"__start__\": \"00000000000000000000000000000017.36d4d2562fc3b5592c87c1e8386709ef\", \"messages\": \"00000000000000000000000000000016.0401cc2e352df50378d9b5676dbab2b9\", \"start:conversation\": \"00000000000000000000000000000016.\", \"conversation\": \"00000000000000000000000000000017.\", \"branch:conversation:should_continue:summarize_conversation\": \"00000000000000000000000000000013.\", \"summarize_conversation\": \"00000000000000000000000000000014.\", \"summary\": \"00000000000000000000000000000013.7230637d5911e552692a2ec52c8b0433\"}, \"versions_seen\": {\"__input__\": {}, \"__start__\": {\"__start__\": \"00000000000000000000000000000014.b0a325fdc12ba7b8fa1dda770409296e\"}, \"conversation\": {\"start:conversation\": \"00000000000000000000000000000015.d6f25946c3108fc12f27abbcf9b4cedc\"}, \"summarize_conversation\": {\"branch:conversation:should_continue:summarize_conversation\": \"00000000000000000000000000000012.c1a9456cbcb093548c8af8548661d954\"}}, \"pending_sends\": [], \"current_tasks\": {}}',\n",
       "  b'{\"source\": \"input\", \"writes\": {\"messages\": [{\"lc\": 1, \"type\": \"constructor\", \"id\": [\"langchain\", \"schema\", \"messages\", \"HumanMessage\"], \"kwargs\": {\"content\": \"i like the 49ers!\", \"type\": \"human\"}}]}, \"step\": 15}'),\n",
       " ('1',\n",
       "  '',\n",
       "  '1ef64b23-1a48-6402-8010-79e09364e17f',\n",
       "  '1ef64b23-1a44-619a-800f-66ae836caa2e',\n",
       "  'json',\n",
       "  b'{\"v\": 1, \"ts\": \"2024-08-27T20:23:17.159620+00:00\", \"id\": \"1ef64b23-1a48-6402-8010-79e09364e17f\", \"channel_values\": {\"messages\": [{\"lc\": 1, \"type\": \"constructor\", \"id\": [\"langchain\", \"schema\", \"messages\", \"HumanMessage\"], \"kwargs\": {\"content\": \"hi! I\\'m Lance\", \"type\": \"human\", \"id\": \"086e80ce-8bd0-4dee-b13c-f47160d6755f\"}}, {\"lc\": 1, \"type\": \"constructor\", \"id\": [\"langchain\", \"schema\", \"messages\", \"AIMessage\"], \"kwargs\": {\"content\": \"Hello Lance! You\\'ve already introduced yourself, but it\\'s nice to greet you again. Is there something specific you\\'d like to talk about? Perhaps you\\'d like to continue our conversation about the 49ers, or is there another topic you\\'re interested in discussing?\", \"response_metadata\": {\"id\": \"msg_01AkDF6AH7LMp2YDDD9jQkEC\", \"model\": \"claude-3-5-sonnet-20240620\", \"stop_reason\": \"end_turn\", \"stop_sequence\": null, \"usage\": {\"input_tokens\": 197, \"output_tokens\": 58}}, \"type\": \"ai\", \"id\": \"run-7f8af5e1-5248-4ccd-ab46-87580422f0d6-0\", \"usage_metadata\": {\"input_tokens\": 197, \"output_tokens\": 58, \"total_tokens\": 255}, \"tool_calls\": [], \"invalid_tool_calls\": []}}, {\"lc\": 1, \"type\": \"constructor\", \"id\": [\"langchain\", \"schema\", \"messages\", \"HumanMessage\"], \"kwargs\": {\"content\": \"what\\'s my name?\", \"type\": \"human\", \"id\": \"e33f42ee-cdb0-45ec-b100-54dcd4c82e71\"}}, {\"lc\": 1, \"type\": \"constructor\", \"id\": [\"langchain\", \"schema\", \"messages\", \"AIMessage\"], \"kwargs\": {\"content\": \"Your name is Lance. You\\'ve introduced yourself twice during our conversation.\", \"response_metadata\": {\"id\": \"msg_01LVJSCjRjmRd3QA2UMP6SXg\", \"model\": \"claude-3-5-sonnet-20240620\", \"stop_reason\": \"end_turn\", \"stop_sequence\": null, \"usage\": {\"input_tokens\": 193, \"output_tokens\": 17}}, \"type\": \"ai\", \"id\": \"run-4152603e-5c5f-4a26-be8c-2b2bab373e75-0\", \"usage_metadata\": {\"input_tokens\": 193, \"output_tokens\": 17, \"total_tokens\": 210}, \"tool_calls\": [], \"invalid_tool_calls\": []}}, {\"lc\": 1, \"type\": \"constructor\", \"id\": [\"langchain\", \"schema\", \"messages\", \"HumanMessage\"], \"kwargs\": {\"content\": \"i like the 49ers!\", \"type\": \"human\", \"id\": \"85513182-bfb9-445b-b6ff-a6553bf63767\"}}], \"summary\": \"Here\\'s a summary of the conversation:\\\\n\\\\nLance introduced himself twice during the conversation. He expressed his fondness for the San Francisco 49ers football team. The AI assistant acknowledged Lance\\'s name each time and showed willingness to discuss the 49ers, offering to talk about various aspects of the team such as their history, current roster, or memorable games. The conversation was brief and somewhat repetitive, with Lance reintroducing himself at the end without directly responding to the AI\\'s questions or prompts about the 49ers.\", \"start:conversation\": \"__start__\"}, \"channel_versions\": {\"__start__\": \"00000000000000000000000000000018.\", \"messages\": \"00000000000000000000000000000018.e2a08d75496f67a868efb2fff28d48ff\", \"start:conversation\": \"00000000000000000000000000000018.d6f25946c3108fc12f27abbcf9b4cedc\", \"conversation\": \"00000000000000000000000000000017.\", \"branch:conversation:should_continue:summarize_conversation\": \"00000000000000000000000000000013.\", \"summarize_conversation\": \"00000000000000000000000000000014.\", \"summary\": \"00000000000000000000000000000013.7230637d5911e552692a2ec52c8b0433\"}, \"versions_seen\": {\"__input__\": {}, \"__start__\": {\"__start__\": \"00000000000000000000000000000017.36d4d2562fc3b5592c87c1e8386709ef\"}, \"conversation\": {\"start:conversation\": \"00000000000000000000000000000015.d6f25946c3108fc12f27abbcf9b4cedc\"}, \"summarize_conversation\": {\"branch:conversation:should_continue:summarize_conversation\": \"00000000000000000000000000000012.c1a9456cbcb093548c8af8548661d954\"}}, \"pending_sends\": [], \"current_tasks\": {}}',\n",
       "  b'{\"source\": \"loop\", \"writes\": null, \"step\": 16}'),\n",
       " ('1',\n",
       "  '',\n",
       "  '1ef64b23-31cd-655a-8011-d28d83f59223',\n",
       "  '1ef64b23-1a48-6402-8010-79e09364e17f',\n",
       "  'json',\n",
       "  b'{\"v\": 1, \"ts\": \"2024-08-27T20:23:19.625843+00:00\", \"id\": \"1ef64b23-31cd-655a-8011-d28d83f59223\", \"channel_values\": {\"messages\": [{\"lc\": 1, \"type\": \"constructor\", \"id\": [\"langchain\", \"schema\", \"messages\", \"HumanMessage\"], \"kwargs\": {\"content\": \"hi! I\\'m Lance\", \"type\": \"human\", \"id\": \"086e80ce-8bd0-4dee-b13c-f47160d6755f\"}}, {\"lc\": 1, \"type\": \"constructor\", \"id\": [\"langchain\", \"schema\", \"messages\", \"AIMessage\"], \"kwargs\": {\"content\": \"Hello Lance! You\\'ve already introduced yourself, but it\\'s nice to greet you again. Is there something specific you\\'d like to talk about? Perhaps you\\'d like to continue our conversation about the 49ers, or is there another topic you\\'re interested in discussing?\", \"response_metadata\": {\"id\": \"msg_01AkDF6AH7LMp2YDDD9jQkEC\", \"model\": \"claude-3-5-sonnet-20240620\", \"stop_reason\": \"end_turn\", \"stop_sequence\": null, \"usage\": {\"input_tokens\": 197, \"output_tokens\": 58}}, \"type\": \"ai\", \"id\": \"run-7f8af5e1-5248-4ccd-ab46-87580422f0d6-0\", \"usage_metadata\": {\"input_tokens\": 197, \"output_tokens\": 58, \"total_tokens\": 255}, \"tool_calls\": [], \"invalid_tool_calls\": []}}, {\"lc\": 1, \"type\": \"constructor\", \"id\": [\"langchain\", \"schema\", \"messages\", \"HumanMessage\"], \"kwargs\": {\"content\": \"what\\'s my name?\", \"type\": \"human\", \"id\": \"e33f42ee-cdb0-45ec-b100-54dcd4c82e71\"}}, {\"lc\": 1, \"type\": \"constructor\", \"id\": [\"langchain\", \"schema\", \"messages\", \"AIMessage\"], \"kwargs\": {\"content\": \"Your name is Lance. You\\'ve introduced yourself twice during our conversation.\", \"response_metadata\": {\"id\": \"msg_01LVJSCjRjmRd3QA2UMP6SXg\", \"model\": \"claude-3-5-sonnet-20240620\", \"stop_reason\": \"end_turn\", \"stop_sequence\": null, \"usage\": {\"input_tokens\": 193, \"output_tokens\": 17}}, \"type\": \"ai\", \"id\": \"run-4152603e-5c5f-4a26-be8c-2b2bab373e75-0\", \"usage_metadata\": {\"input_tokens\": 193, \"output_tokens\": 17, \"total_tokens\": 210}, \"tool_calls\": [], \"invalid_tool_calls\": []}}, {\"lc\": 1, \"type\": \"constructor\", \"id\": [\"langchain\", \"schema\", \"messages\", \"HumanMessage\"], \"kwargs\": {\"content\": \"i like the 49ers!\", \"type\": \"human\", \"id\": \"85513182-bfb9-445b-b6ff-a6553bf63767\"}}, {\"lc\": 1, \"type\": \"constructor\", \"id\": [\"langchain\", \"schema\", \"messages\", \"AIMessage\"], \"kwargs\": {\"content\": \"Yes, you\\'ve mentioned that you like the San Francisco 49ers! They\\'re a popular NFL team with a rich history. Since you\\'re a fan, is there anything specific about the 49ers you\\'d like to discuss? We could talk about:\\\\n\\\\n1. Their current roster and key players\\\\n2. The team\\'s history and past achievements\\\\n3. Memorable games or seasons\\\\n4. Their prospects for the upcoming season\\\\n5. The team\\'s rivalries\\\\n6. Their home stadium, Levi\\'s Stadium\\\\n\\\\nWhat aspect of the 49ers interests you most?\", \"response_metadata\": {\"id\": \"msg_018FVfpp9brQykX53VK88tv5\", \"model\": \"claude-3-5-sonnet-20240620\", \"stop_reason\": \"end_turn\", \"stop_sequence\": null, \"usage\": {\"input_tokens\": 220, \"output_tokens\": 123}}, \"type\": \"ai\", \"id\": \"run-68b784a6-c518-4904-a208-6214b7223414-0\", \"usage_metadata\": {\"input_tokens\": 220, \"output_tokens\": 123, \"total_tokens\": 343}, \"tool_calls\": [], \"invalid_tool_calls\": []}}], \"summary\": \"Here\\'s a summary of the conversation:\\\\n\\\\nLance introduced himself twice during the conversation. He expressed his fondness for the San Francisco 49ers football team. The AI assistant acknowledged Lance\\'s name each time and showed willingness to discuss the 49ers, offering to talk about various aspects of the team such as their history, current roster, or memorable games. The conversation was brief and somewhat repetitive, with Lance reintroducing himself at the end without directly responding to the AI\\'s questions or prompts about the 49ers.\", \"conversation\": \"conversation\"}, \"channel_versions\": {\"__start__\": \"00000000000000000000000000000018.\", \"messages\": \"00000000000000000000000000000019.332eaf41af8fe48b39de1591cc1faf6a\", \"start:conversation\": \"00000000000000000000000000000019.\", \"conversation\": \"00000000000000000000000000000019.c1a9456cbcb093548c8af8548661d954\", \"branch:conversation:should_continue:summarize_conversation\": \"00000000000000000000000000000013.\", \"summarize_conversation\": \"00000000000000000000000000000014.\", \"summary\": \"00000000000000000000000000000013.7230637d5911e552692a2ec52c8b0433\"}, \"versions_seen\": {\"__input__\": {}, \"__start__\": {\"__start__\": \"00000000000000000000000000000017.36d4d2562fc3b5592c87c1e8386709ef\"}, \"conversation\": {\"start:conversation\": \"00000000000000000000000000000018.d6f25946c3108fc12f27abbcf9b4cedc\"}, \"summarize_conversation\": {\"branch:conversation:should_continue:summarize_conversation\": \"00000000000000000000000000000012.c1a9456cbcb093548c8af8548661d954\"}}, \"pending_sends\": [], \"current_tasks\": {}}',\n",
       "  b'{\"source\": \"loop\", \"writes\": {\"conversation\": {\"messages\": {\"lc\": 1, \"type\": \"constructor\", \"id\": [\"langchain\", \"schema\", \"messages\", \"AIMessage\"], \"kwargs\": {\"content\": \"Yes, you\\'ve mentioned that you like the San Francisco 49ers! They\\'re a popular NFL team with a rich history. Since you\\'re a fan, is there anything specific about the 49ers you\\'d like to discuss? We could talk about:\\\\n\\\\n1. Their current roster and key players\\\\n2. The team\\'s history and past achievements\\\\n3. Memorable games or seasons\\\\n4. Their prospects for the upcoming season\\\\n5. The team\\'s rivalries\\\\n6. Their home stadium, Levi\\'s Stadium\\\\n\\\\nWhat aspect of the 49ers interests you most?\", \"response_metadata\": {\"id\": \"msg_018FVfpp9brQykX53VK88tv5\", \"model\": \"claude-3-5-sonnet-20240620\", \"stop_reason\": \"end_turn\", \"stop_sequence\": null, \"usage\": {\"input_tokens\": 220, \"output_tokens\": 123}}, \"type\": \"ai\", \"id\": \"run-68b784a6-c518-4904-a208-6214b7223414-0\", \"usage_metadata\": {\"input_tokens\": 220, \"output_tokens\": 123, \"total_tokens\": 343}, \"tool_calls\": [], \"invalid_tool_calls\": []}}}}, \"step\": 17}')]"
      ]
     },
     "execution_count": 13,
     "metadata": {},
     "output_type": "execute_result"
    }
   ],
   "source": [
    "res = cur.execute(\"SELECT * FROM checkpoints;\")\n",
    "res.fetchall()"
   ]
  },
  {
   "cell_type": "code",
   "execution_count": 14,
   "id": "3c7736b6-a750-48f8-a838-8e7616b12250",
   "metadata": {},
   "outputs": [],
   "source": [
    "# Here is our checkpointer \n",
    "from langgraph.checkpoint.sqlite import SqliteSaver\n",
    "memory = SqliteSaver(conn)"
   ]
  },
  {
   "cell_type": "markdown",
   "id": "9d8cb629-213f-4b87-965e-19b812c42da1",
   "metadata": {},
   "source": [
    "Let's re-define our chatbot."
   ]
  },
  {
   "cell_type": "code",
   "execution_count": 15,
   "id": "dc414e29-2078-41a0-887c-af1a6a3d72c0",
   "metadata": {},
   "outputs": [],
   "source": [
    "\n",
    "from langchain_google_vertexai import ChatVertexAI\n",
    "from langchain_core.messages import SystemMessage, HumanMessage, RemoveMessage\n",
    "\n",
    "from langgraph.graph import END\n",
    "from langgraph.graph import MessagesState\n",
    "\n",
    "from langchain_google_vertexai import ChatVertexAI\n",
    "model = ChatVertexAI(model=\"gemini-pro\",temperature=0)\n",
    "\n",
    "class State(MessagesState):\n",
    "    summary: str\n",
    "\n",
    "# Define the logic to call the model\n",
    "def call_model(state: State):\n",
    "    \n",
    "    # Get summary if it exists\n",
    "    summary = state.get(\"summary\", \"\")\n",
    "\n",
    "    # If there is summary, then we add it\n",
    "    if summary:\n",
    "        \n",
    "        # Add summary to system message\n",
    "        system_message = f\"Summary of conversation earlier: {summary}\"\n",
    "\n",
    "        # Append summary to any newer messages\n",
    "        messages = [SystemMessage(content=system_message)] + state[\"messages\"]\n",
    "    \n",
    "    else:\n",
    "        messages = state[\"messages\"]\n",
    "    \n",
    "    response = model.invoke(messages)\n",
    "    return {\"messages\": response}\n",
    "\n",
    "def summarize_conversation(state: State):\n",
    "    \n",
    "    # First, we get any existing summary\n",
    "    summary = state.get(\"summary\", \"\")\n",
    "\n",
    "    # Create our summarization prompt \n",
    "    if summary:\n",
    "        \n",
    "        # A summary already exists\n",
    "        summary_message = (\n",
    "            f\"This is summary of the conversation to date: {summary}\\n\\n\"\n",
    "            \"Extend the summary by taking into account the new messages above:\"\n",
    "        )\n",
    "        \n",
    "    else:\n",
    "        summary_message = \"Create a summary of the conversation above:\"\n",
    "\n",
    "    # Add prompt to our history\n",
    "    messages = state[\"messages\"] + [HumanMessage(content=summary_message)]\n",
    "    response = model.invoke(messages)\n",
    "    \n",
    "    # Delete all but the 2 most recent messages\n",
    "    delete_messages = [RemoveMessage(id=m.id) for m in state[\"messages\"][:-2]]\n",
    "    return {\"summary\": response.content, \"messages\": delete_messages}\n",
    "\n",
    "# Determine whether to end or summarize the conversation\n",
    "def should_continue(state: State):\n",
    "    \n",
    "    \"\"\"Return the next node to execute.\"\"\"\n",
    "    \n",
    "    messages = state[\"messages\"]\n",
    "    \n",
    "    # If there are more than six messages, then we summarize the conversation\n",
    "    if len(messages) > 4:\n",
    "        return \"summarize_conversation\"\n",
    "    \n",
    "    # Otherwise we can just end\n",
    "    return END"
   ]
  },
  {
   "cell_type": "markdown",
   "id": "41c13c0b-a383-4f73-9cc1-63f0eed8f190",
   "metadata": {},
   "source": [
    "Now, we just re-compile with our sqlite checkpointer."
   ]
  },
  {
   "cell_type": "code",
   "execution_count": 16,
   "id": "e867fd95-91eb-4ce1-82fc-bb72d611a96d",
   "metadata": {},
   "outputs": [
    {
     "data": {
      "image/png": "[encoded data removed]",
      "text/plain": [
       "<IPython.core.display.Image object>"
      ]
     },
     "metadata": {},
     "output_type": "display_data"
    }
   ],
   "source": [
    "from IPython.display import Image, display\n",
    "from langgraph.graph import StateGraph, START\n",
    "\n",
    "# Define a new graph\n",
    "workflow = StateGraph(State)\n",
    "workflow.add_node(\"conversation\", call_model)\n",
    "workflow.add_node(summarize_conversation)\n",
    "\n",
    "# Set the entrypoint as conversation\n",
    "workflow.add_edge(START, \"conversation\")\n",
    "workflow.add_conditional_edges(\"conversation\", should_continue)\n",
    "workflow.add_edge(\"summarize_conversation\", END)\n",
    "\n",
    "# Compile\n",
    "graph = workflow.compile(checkpointer=memory)\n",
    "display(Image(graph.get_graph().draw_mermaid_png()))"
   ]
  },
  {
   "cell_type": "markdown",
   "id": "8769db99-3938-45e6-a594-56beb18d6c45",
   "metadata": {},
   "source": [
    "Now, we can invoke the graph several times. "
   ]
  },
  {
   "cell_type": "code",
   "execution_count": 17,
   "id": "0f4094a0-d240-4be8-903a-7d9f605bdc5c",
   "metadata": {},
   "outputs": [
    {
     "name": "stdout",
     "output_type": "stream",
     "text": [
      "==================================\u001b[1m Ai Message \u001b[0m==================================\n",
      "\n",
      "Hi Vikas, it's nice to meet you! What would you like to talk about today?\n",
      "messages len: 2\n",
      "==================================\u001b[1m Ai Message \u001b[0m==================================\n",
      "\n",
      "You just told me your name is Vikas. Is there anything else you'd like to tell me about yourself?\n",
      "messages len: 4\n",
      "==================================\u001b[1m Ai Message \u001b[0m==================================\n",
      "\n",
      "That's great! Bollywood is a vibrant and exciting industry with a rich history. What are some of your favorite Bollywood movies or actors? \n",
      "\n",
      "I can also share some interesting facts about Bollywood with you, if you'd like.\n",
      "messages len: 2\n"
     ]
    }
   ],
   "source": [
    "# Create a thread\n",
    "config = {\"configurable\": {\"thread_id\": \"10\"}}\n",
    "\n",
    "# Start conversation\n",
    "input_message = HumanMessage(content=\"hi! I'm vikas\")\n",
    "output = graph.invoke({\"messages\": [input_message]}, config) \n",
    "for m in output['messages'][-1:]:\n",
    "    m.pretty_print()\n",
    "\n",
    "print(f\"messages len: {len(output['messages'])}\")\n",
    "\n",
    "input_message = HumanMessage(content=\"what's my name?\")\n",
    "output = graph.invoke({\"messages\": [input_message]}, config) \n",
    "for m in output['messages'][-1:]:\n",
    "    m.pretty_print()\n",
    "\n",
    "print(f\"messages len: {len(output['messages'])}\")\n",
    "\n",
    "input_message = HumanMessage(content=\"i like bollywood!\")\n",
    "output = graph.invoke({\"messages\": [input_message]}, config) \n",
    "for m in output['messages'][-1:]:\n",
    "    m.pretty_print()\n",
    "\n",
    "print(f\"messages len: {len(output['messages'])}\")\n"
   ]
  },
  {
   "cell_type": "markdown",
   "id": "c0f3e842-4497-45e2-a924-69672a9bcb33",
   "metadata": {},
   "source": [
    "Let's confirm that our state is saved locally."
   ]
  },
  {
   "cell_type": "code",
   "execution_count": 19,
   "id": "d2ab158a-5a82-417a-8841-730a4cc18ea7",
   "metadata": {},
   "outputs": [
    {
     "data": {
      "text/plain": [
       "StateSnapshot(values={'messages': [HumanMessage(content='i like bollywood!', additional_kwargs={}, response_metadata={}, id='9a27d615-a4e9-455d-866a-2a63c5ab798d'), AIMessage(content=\"That's great! Bollywood is a vibrant and exciting industry with a rich history. What are some of your favorite Bollywood movies or actors? \\n\\nI can also share some interesting facts about Bollywood with you, if you'd like. \\n\", additional_kwargs={}, response_metadata={'is_blocked': False, 'safety_ratings': [{'category': 'HARM_CATEGORY_HATE_SPEECH', 'probability_label': 'NEGLIGIBLE', 'probability_score': 0.04541015625, 'blocked': False, 'severity': 'HARM_SEVERITY_NEGLIGIBLE', 'severity_score': 0.0341796875}, {'category': 'HARM_CATEGORY_DANGEROUS_CONTENT', 'probability_label': 'NEGLIGIBLE', 'probability_score': 0.03515625, 'blocked': False, 'severity': 'HARM_SEVERITY_NEGLIGIBLE', 'severity_score': 0.044677734375}, {'category': 'HARM_CATEGORY_HARASSMENT', 'probability_label': 'NEGLIGIBLE', 'probability_score': 0.049560546875, 'blocked': False, 'severity': 'HARM_SEVERITY_NEGLIGIBLE', 'severity_score': 0.02294921875}, {'category': 'HARM_CATEGORY_SEXUALLY_EXPLICIT', 'probability_label': 'NEGLIGIBLE', 'probability_score': 0.1884765625, 'blocked': False, 'severity': 'HARM_SEVERITY_NEGLIGIBLE', 'severity_score': 0.0927734375}], 'usage_metadata': {'prompt_token_count': 63, 'candidates_token_count': 50, 'total_token_count': 113, 'cached_content_token_count': 0}, 'finish_reason': 'STOP', 'avg_logprobs': -0.09155889511108399}, id='run-5797fa10-425c-4c02-818e-549a8d494a60-0', usage_metadata={'input_tokens': 63, 'output_tokens': 50, 'total_tokens': 113})], 'summary': \"## Conversation Summary:\\n\\n**Participants:**\\n\\n* User: Vikas\\n* AI: Gemini\\n\\n**Topics Discussed:**\\n\\n* Introductions: Vikas introduces himself and the AI responds with a greeting.\\n* Name Recall: Vikas asks the AI to recall his name, which the AI correctly identifies as Vikas.\\n* Bollywood Interest: Vikas expresses his interest in Bollywood.\\n* Bollywood Discussion: The AI acknowledges Vikas's interest and asks about his favorite Bollywood movies or actors. The AI also offers to share interesting facts about Bollywood.\\n\\n**Overall Tone:**\\n\\nThe conversation is friendly and polite. Both participants seem interested in engaging with each other.\\n\\n**Next Steps:**\\n\\nThe conversation could continue with Vikas sharing his favorite Bollywood movies or actors, or the AI could share interesting facts about Bollywood. \\n\"}, next=(), config={'configurable': {'thread_id': '10', 'checkpoint_ns': '', 'checkpoint_id': '1efd2a3a-c6b4-6108-8008-d46c088f82f7'}}, metadata={'source': 'loop', 'writes': {'summarize_conversation': {'summary': \"## Conversation Summary:\\n\\n**Participants:**\\n\\n* User: Vikas\\n* AI: Gemini\\n\\n**Topics Discussed:**\\n\\n* Introductions: Vikas introduces himself and the AI responds with a greeting.\\n* Name Recall: Vikas asks the AI to recall his name, which the AI correctly identifies as Vikas.\\n* Bollywood Interest: Vikas expresses his interest in Bollywood.\\n* Bollywood Discussion: The AI acknowledges Vikas's interest and asks about his favorite Bollywood movies or actors. The AI also offers to share interesting facts about Bollywood.\\n\\n**Overall Tone:**\\n\\nThe conversation is friendly and polite. Both participants seem interested in engaging with each other.\\n\\n**Next Steps:**\\n\\nThe conversation could continue with Vikas sharing his favorite Bollywood movies or actors, or the AI could share interesting facts about Bollywood. \\n\", 'messages': [RemoveMessage(content='', additional_kwargs={}, response_metadata={}, id='8110aa29-9845-46bf-b5e1-31c05ec4da52'), RemoveMessage(content='', additional_kwargs={}, response_metadata={}, id='run-8e74c531-2967-4ce5-af87-1c9e0f8e2c05-0'), RemoveMessage(content='', additional_kwargs={}, response_metadata={}, id='39e69b73-6e97-4e86-8ed8-28d7f75fbf21'), RemoveMessage(content='', additional_kwargs={}, response_metadata={}, id='run-da47edac-df82-4bc4-be23-98f80b1ab9d2-0')]}}, 'thread_id': '10', 'step': 8, 'parents': {}}, created_at='2025-01-14T18:16:28.598670+00:00', parent_config={'configurable': {'thread_id': '10', 'checkpoint_ns': '', 'checkpoint_id': '1efd2a3a-ae17-6f46-8007-4474ff0f7b83'}}, tasks=())"
      ]
     },
     "execution_count": 19,
     "metadata": {},
     "output_type": "execute_result"
    }
   ],
   "source": [
    "config = {\"configurable\": {\"thread_id\": \"10\"}}\n",
    "graph_state = graph.get_state(config)\n",
    "graph_state"
   ]
  },
  {
   "cell_type": "code",
   "execution_count": null,
   "id": "71bb8d6e-9e8b-438a-ada7-4641c72ea095",
   "metadata": {},
   "outputs": [],
   "source": [
    "graph_state["
   ]
  },
  {
   "cell_type": "markdown",
   "id": "1e21152d-ed9c-408d-b7d5-f634c9ce81e2",
   "metadata": {},
   "source": [
    "### Persisting state\n",
    "\n",
    "Using database like Sqlite means state is persisted! \n",
    "\n",
    "For example, we can re-start the notebook kernel and see that we can still load from Sqlite DB on disk.\n"
   ]
  },
  {
   "cell_type": "code",
   "execution_count": 8,
   "id": "b9a44dc5-be04-45fa-a6fc-27b0f8ee4678",
   "metadata": {},
   "outputs": [
    {
     "data": {
      "text/plain": [
       "StateSnapshot(values={'messages': [HumanMessage(content=\"hi! I'm Lance\", id='d5bb4b3f-b1e9-4f61-8c75-7a7210b30253'), AIMessage(content=\"Hello again, Lance! It's great to hear from you. Since you like the 49ers, is there a particular player or moment in their history that stands out to you? Or perhaps you'd like to discuss their current season? Let me know!\", additional_kwargs={'refusal': None}, response_metadata={'token_usage': {'completion_tokens': 50, 'prompt_tokens': 337, 'total_tokens': 387}, 'model_name': 'gpt-4o-2024-05-13', 'system_fingerprint': 'fp_157b3831f5', 'finish_reason': 'stop', 'logprobs': None}, id='run-dde04d51-d305-4a9e-8ad5-6bdf5583196e-0', usage_metadata={'input_tokens': 337, 'output_tokens': 50, 'total_tokens': 387}), HumanMessage(content=\"what's my name?\", id='d7530770-f130-4a05-a602-a96fd87859c6'), AIMessage(content='Your name is Lance! How can I assist you today? Would you like to talk more about the San Francisco 49ers or something else?', additional_kwargs={'refusal': None}, response_metadata={'token_usage': {'completion_tokens': 29, 'prompt_tokens': 243, 'total_tokens': 272}, 'model_name': 'gpt-4o-2024-05-13', 'system_fingerprint': 'fp_fde2829a40', 'finish_reason': 'stop', 'logprobs': None}, id='run-763b6387-c4c9-4658-9d01-7c018dde7a62-0', usage_metadata={'input_tokens': 243, 'output_tokens': 29, 'total_tokens': 272}), HumanMessage(content='i like the 49ers!', id='235dcec4-b656-4bee-b741-e330e1a026e2'), AIMessage(content=\"That's awesome, Lance! The San Francisco 49ers have a rich history and a passionate fan base. Is there a specific aspect of the team you'd like to discuss? For example, we could talk about:\\n\\n- Their legendary players like Joe Montana and Jerry Rice\\n- Memorable games and Super Bowl victories\\n- The current roster and season prospects\\n- Rivalries, like the one with the Seattle Seahawks\\n- Levi's Stadium and the fan experience\\n\\nLet me know what interests you!\", additional_kwargs={'refusal': None}, response_metadata={'token_usage': {'completion_tokens': 98, 'prompt_tokens': 287, 'total_tokens': 385}, 'model_name': 'gpt-4o-2024-05-13', 'system_fingerprint': 'fp_fde2829a40', 'finish_reason': 'stop', 'logprobs': None}, id='run-729860b2-16c3-46ff-ad1e-0a5475565b20-0', usage_metadata={'input_tokens': 287, 'output_tokens': 98, 'total_tokens': 385})], 'summary': 'Here\\'s an extended summary of the conversation:\\n\\nLance introduced himself multiple times during the conversation, each time stating, \"Hi! I\\'m Lance.\" He expressed his fondness for the San Francisco 49ers football team. The AI assistant acknowledged Lance\\'s name each time and showed willingness to discuss the 49ers, offering to talk about various aspects of the team such as their history, current roster, memorable games, prospects for the upcoming season, rivalries, and their home stadium, Levi\\'s Stadium. Despite the AI\\'s attempts to engage in a more detailed discussion about the 49ers, Lance reintroduced himself again without directly responding to the AI\\'s questions or prompts about the team. The conversation remained brief and somewhat repetitive, focusing mainly on Lance\\'s introductions and his interest in the 49ers.'}, next=(), config={'configurable': {'thread_id': '1', 'checkpoint_ns': '', 'checkpoint_id': '1ef6a36d-ca9c-6144-801b-6d0cf97adc73'}}, metadata={'source': 'loop', 'writes': {'conversation': {'messages': AIMessage(content=\"That's awesome, Lance! The San Francisco 49ers have a rich history and a passionate fan base. Is there a specific aspect of the team you'd like to discuss? For example, we could talk about:\\n\\n- Their legendary players like Joe Montana and Jerry Rice\\n- Memorable games and Super Bowl victories\\n- The current roster and season prospects\\n- Rivalries, like the one with the Seattle Seahawks\\n- Levi's Stadium and the fan experience\\n\\nLet me know what interests you!\", additional_kwargs={'refusal': None}, response_metadata={'token_usage': {'completion_tokens': 98, 'prompt_tokens': 287, 'total_tokens': 385}, 'model_name': 'gpt-4o-2024-05-13', 'system_fingerprint': 'fp_fde2829a40', 'finish_reason': 'stop', 'logprobs': None}, id='run-729860b2-16c3-46ff-ad1e-0a5475565b20-0', usage_metadata={'input_tokens': 287, 'output_tokens': 98, 'total_tokens': 385})}}, 'step': 27, 'parents': {}}, created_at='2024-09-03T20:55:33.466540+00:00', parent_config={'configurable': {'thread_id': '1', 'checkpoint_ns': '', 'checkpoint_id': '1ef6a36d-b8f3-6b40-801a-494776d2e9e0'}}, tasks=())"
      ]
     },
     "execution_count": 8,
     "metadata": {},
     "output_type": "execute_result"
    }
   ],
   "source": [
    "# Create a thread\n",
    "config = {\"configurable\": {\"thread_id\": \"1\"}}\n",
    "graph_state = graph.get_state(config)\n",
    "graph_state"
   ]
  },
  {
   "cell_type": "markdown",
   "id": "8466e418-1a46-4cdb-a51a-6ae14281bb85",
   "metadata": {},
   "source": [
    "## LangGraph Studio\n",
    "\n",
    "--\n",
    "\n",
    "**⚠️ DISCLAIMER**\n",
    "\n",
    "*Running Studio currently requires a Mac. If you are not using a Mac, then skip this step.*\n",
    "\n",
    "--\n",
    "\n",
    "Now that we better understand external memory, recall that the LangGraph API packages your code and provides you with with built-in persistence.\n",
    " \n",
    "And the API is the back-end for Studio! \n",
    "\n",
    "Load the `chatbot` in the UI, which uses `module2-/studio/chatbot.py` set in `module2-/studio/langgraph.json`."
   ]
  },
  {
   "cell_type": "markdown",
   "id": "c4916d8b",
   "metadata": {},
   "source": []
  }
 ],
 "metadata": {
  "kernelspec": {
   "display_name": "Python 3 (ipykernel)",
   "language": "python",
   "name": "python3"
  },
  "language_info": {
   "codemirror_mode": {
    "name": "ipython",
    "version": 3
   },
   "file_extension": ".py",
   "mimetype": "text/x-python",
   "name": "python",
   "nbconvert_exporter": "python",
   "pygments_lexer": "ipython3",
   "version": "3.12.1"
  }
 },
 "nbformat": 4,
 "nbformat_minor": 5
}
